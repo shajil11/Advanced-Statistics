{
 "cells": [
  {
   "cell_type": "code",
   "execution_count": 358,
   "id": "14499954",
   "metadata": {},
   "outputs": [],
   "source": [
    "import pandas as pd\n",
    "import numpy as np\n",
    "import matplotlib.pyplot as plt\n",
    "%matplotlib inline\n",
    "import seaborn as sns\n",
    "from scipy.stats import f\n",
    "import scipy.stats as stats\n",
    "from scipy.stats import norm\n",
    "from scipy.stats import levene\n",
    "from warnings import filterwarnings \n",
    "filterwarnings(\"ignore\")\n",
    "from scipy.stats import ttest_1samp, ttest_ind\n",
    "from statsmodels.stats.power import ttest_power\n",
    "from statsmodels.formula.api import ols\n",
    "from statsmodels.stats.anova import _get_covariance,anova_lm"
   ]
  },
  {
   "cell_type": "markdown",
   "id": "cf5a65f4",
   "metadata": {},
   "source": [
    "# Problem 1"
   ]
  },
  {
   "cell_type": "markdown",
   "id": "ed2c8cc8",
   "metadata": {},
   "source": [
    "## 1.1) Ans:"
   ]
  },
  {
   "cell_type": "markdown",
   "id": "e7b8012b",
   "metadata": {},
   "source": [
    "Total number of players injured (145) / Total number of players (235) * 100 = **61.70%**"
   ]
  },
  {
   "cell_type": "markdown",
   "id": "2cc5b45e",
   "metadata": {},
   "source": [
    "The probability for which a randomly chosen player would suffer an injury is **61.70%.**"
   ]
  },
  {
   "cell_type": "markdown",
   "id": "30067bfd",
   "metadata": {},
   "source": [
    "## 1.2) Ans:"
   ]
  },
  {
   "cell_type": "markdown",
   "id": "3c392c79",
   "metadata": {},
   "source": [
    "Forward 94/235 +  Winger 29/235 = 123/235  = **52.34%**"
   ]
  },
  {
   "cell_type": "markdown",
   "id": "03aba991",
   "metadata": {},
   "source": [
    "The probability that a player is a forward or a winger is **52.34%.**"
   ]
  },
  {
   "cell_type": "markdown",
   "id": "5cd89166",
   "metadata": {},
   "source": [
    "## 1.3) Ans:"
   ]
  },
  {
   "cell_type": "markdown",
   "id": "4eae9133",
   "metadata": {},
   "source": [
    "striker position and has a foot injury (45) / Total number of players (235) = **19.14%**"
   ]
  },
  {
   "cell_type": "markdown",
   "id": "abd1da1f",
   "metadata": {},
   "source": [
    "The probability that a randomly chosen player plays in a striker position and has a foot injury is **19.14%.**"
   ]
  },
  {
   "cell_type": "markdown",
   "id": "b11512a6",
   "metadata": {},
   "source": [
    "## 1.4) Ans:"
   ]
  },
  {
   "cell_type": "markdown",
   "id": "4e103d11",
   "metadata": {},
   "source": [
    "Injured striker (45) / Total number of injured players (145) *100 = **31.03%**"
   ]
  },
  {
   "cell_type": "markdown",
   "id": "dd73303c",
   "metadata": {},
   "source": [
    "The probability that a randomly chosen injured player is a striker is **31.03%.**"
   ]
  },
  {
   "cell_type": "markdown",
   "id": "85fbe8f6",
   "metadata": {},
   "source": [
    "## 1.5) Ans:"
   ]
  },
  {
   "cell_type": "markdown",
   "id": "6a8e1a8d",
   "metadata": {},
   "source": [
    "Forward 56/145 +  Attacking Midfielder 24/145 = 80/145  = **55.17%**"
   ]
  },
  {
   "cell_type": "markdown",
   "id": "38d92be4",
   "metadata": {},
   "source": [
    "The probability that a randomly chosen injured player is either a forward or an attacking midfielder is **55.17%.**"
   ]
  },
  {
   "cell_type": "markdown",
   "id": "2066f2db",
   "metadata": {},
   "source": [
    "# Problem 2"
   ]
  },
  {
   "cell_type": "markdown",
   "id": "84ed3d22",
   "metadata": {},
   "source": [
    "### Probability of radiation leak given Fire\n",
    "P(Radiation Leak | Fire) = 20% = 0.2    \n",
    "### Probability of radiation leak given Mechanical failure\n",
    "P(Radiation Leak | Mechanical failure) = 50% = 0.5         \n",
    "### Probability of radiation leak given Human error\n",
    "P(Radiation Leak | Human error) = 10% = 0.1                                                        \n",
    "\n",
    "\n",
    "### Probability of radiation leak occurring simultaneously with a fire\n",
    "P(Radiation Leak ∩ Fire) = 0.1% = 0.001\n",
    "### Probability of radiation leak occurring simultaneously with a Mechanical failure\n",
    "P(Radiation Leak ∩ Mechanical failure) = 0.15% = 0.0015\n",
    "### Probability of radiation leak occurring simultaneously with a Human error\n",
    "P(Radiation Leak ∩ Human error) = 0.12% = 0.0012"
   ]
  },
  {
   "cell_type": "markdown",
   "id": "8563a29b",
   "metadata": {},
   "source": [
    "## 2.1) Ans:"
   ]
  },
  {
   "cell_type": "markdown",
   "id": "adf5b729",
   "metadata": {},
   "source": [
    "#### P(A|B) = P(A ∩ B) / P(B)\n",
    "\n",
    "#### Therefore, P(B) = P(A ∩ B) / P(A|B)"
   ]
  },
  {
   "cell_type": "markdown",
   "id": "1e71cb4d",
   "metadata": {},
   "source": [
    "### Probability of a Fire"
   ]
  },
  {
   "cell_type": "markdown",
   "id": "cdf42f44",
   "metadata": {},
   "source": [
    "Prob of fire P(F) = P(Radiation Leak ∩ Fire) / P(Radiation Leak | Fire)\n",
    "\n",
    "Prob of fire P(F) = 0.001 / 0.2 = **0.005 or 0.5%**"
   ]
  },
  {
   "cell_type": "markdown",
   "id": "dc79e116",
   "metadata": {},
   "source": [
    "### Probability of a Mechanical failure"
   ]
  },
  {
   "cell_type": "markdown",
   "id": "cb43ca9f",
   "metadata": {},
   "source": [
    "Prob of Mechanical failure P(M) = P(Radiation Leak ∩ Mechanical failure) / P(Radiation Leak | Mechanical failure)\n",
    "\n",
    "Prob of Mechanical failure P(M) = 0.0015 / 0.5 = **0.003 or 0.3%**"
   ]
  },
  {
   "cell_type": "markdown",
   "id": "e3991a81",
   "metadata": {},
   "source": [
    "### Probability of a Human error"
   ]
  },
  {
   "cell_type": "markdown",
   "id": "83dfa5e4",
   "metadata": {},
   "source": [
    "Prob of Human error P(H) = P(Radiation Leak ∩ Human error) / P(Radiation Leak | Human error)\n",
    "\n",
    "Prob of Human error P(H) = 0.0012 / 0.1 = **0.012 or 1.2%**"
   ]
  },
  {
   "cell_type": "markdown",
   "id": "8c3a512f",
   "metadata": {},
   "source": [
    "## 2.2) Ans:"
   ]
  },
  {
   "cell_type": "markdown",
   "id": "c7936380",
   "metadata": {},
   "source": [
    "### Probability of a Radiation Leak\n",
    "Prob of Radiation Leak P(R) = P(Radiation Leak ∩ Fire) + P(Radiation Leak ∩ Mechanical failure) + P(Radiation Leak ∩ Human error)\n",
    "\n",
    "Prob of Radiation Leak P(R) = 0.001 + 0.0015 + 0.0012 = **0.0037 or 0.37%**"
   ]
  },
  {
   "cell_type": "markdown",
   "id": "0bfcd9cd",
   "metadata": {},
   "source": [
    "## 2.3) Ans:"
   ]
  },
  {
   "cell_type": "markdown",
   "id": "32295d2f",
   "metadata": {},
   "source": [
    "#### P(A|B) = P(A ∩ B) / P(B)"
   ]
  },
  {
   "cell_type": "markdown",
   "id": "e335c9a2",
   "metadata": {},
   "source": [
    "### Probability that it has been caused by a Fire"
   ]
  },
  {
   "cell_type": "markdown",
   "id": "be651a9f",
   "metadata": {},
   "source": [
    "P(Fire | Radiation Leak) = P(Radiation Leak ∩ Fire) / P(Radiation Leak)\n",
    "\n",
    "P(Fire | Radiation Leak) = 0.001 / 0.0037 = **0.27 or 27.03%**"
   ]
  },
  {
   "cell_type": "markdown",
   "id": "6a2c94e8",
   "metadata": {},
   "source": [
    "### Probability that it has been caused by a Mechanical failure"
   ]
  },
  {
   "cell_type": "markdown",
   "id": "e5a93bde",
   "metadata": {},
   "source": [
    "P(Mechanical failure | Radiation Leak) = P(Radiation Leak ∩ Mechanical failure) / P(Radiation Leak)\n",
    "\n",
    "P(Mechanical failure | Radiation Leak) = 0.0015 / 0.0037 = **0.41 or 40.54%**"
   ]
  },
  {
   "cell_type": "markdown",
   "id": "48a42261",
   "metadata": {},
   "source": [
    "### Probability that it has been caused by a Human error"
   ]
  },
  {
   "cell_type": "markdown",
   "id": "d880abba",
   "metadata": {},
   "source": [
    "P(Human error | Radiation Leak) = P(Radiation Leak ∩ Human error) / P(Radiation Leak)\n",
    "\n",
    "P(Human error | Radiation Leak) = 0.0012 / 0.0037 = **0.32 or 32.43%**"
   ]
  },
  {
   "cell_type": "markdown",
   "id": "548ffef6",
   "metadata": {},
   "source": [
    "# Problem 3"
   ]
  },
  {
   "cell_type": "code",
   "execution_count": 359,
   "id": "0e830e70",
   "metadata": {},
   "outputs": [],
   "source": [
    "from scipy.stats import norm\n",
    "import math\n",
    "mu = 5\n",
    "sigma = 1.5 "
   ]
  },
  {
   "cell_type": "markdown",
   "id": "3c839de0",
   "metadata": {},
   "source": [
    "## 3.1) Ans:"
   ]
  },
  {
   "cell_type": "code",
   "execution_count": 360,
   "id": "4b8201ea",
   "metadata": {},
   "outputs": [
    {
     "name": "stdout",
     "output_type": "stream",
     "text": [
      "The proportion of the gunny bags having a breaking strength less than 3.17 kg per sq cm is 0.11\n"
     ]
    }
   ],
   "source": [
    "# proportion of the gunny bags having a breaking strength less than 3.17 kg per sq cm\n",
    "z=(3.17-mu)/sigma\n",
    "prop_less_than_3_17 = stats.norm.cdf(z)\n",
    "print('The proportion of the gunny bags having a breaking strength less than 3.17 kg per sq cm is', round(prop_less_than_3_17, 2))"
   ]
  },
  {
   "cell_type": "code",
   "execution_count": 361,
   "id": "a813d192",
   "metadata": {},
   "outputs": [
    {
     "data": {
      "text/html": [
       "<div>\n",
       "<style scoped>\n",
       "    .dataframe tbody tr th:only-of-type {\n",
       "        vertical-align: middle;\n",
       "    }\n",
       "\n",
       "    .dataframe tbody tr th {\n",
       "        vertical-align: top;\n",
       "    }\n",
       "\n",
       "    .dataframe thead th {\n",
       "        text-align: right;\n",
       "    }\n",
       "</style>\n",
       "<table border=\"1\" class=\"dataframe\">\n",
       "  <thead>\n",
       "    <tr style=\"text-align: right;\">\n",
       "      <th></th>\n",
       "      <th>x1</th>\n",
       "    </tr>\n",
       "  </thead>\n",
       "  <tbody>\n",
       "    <tr>\n",
       "      <th>0</th>\n",
       "      <td>3.099693</td>\n",
       "    </tr>\n",
       "    <tr>\n",
       "      <th>1</th>\n",
       "      <td>4.755505</td>\n",
       "    </tr>\n",
       "    <tr>\n",
       "      <th>2</th>\n",
       "      <td>7.108906</td>\n",
       "    </tr>\n",
       "  </tbody>\n",
       "</table>\n",
       "</div>"
      ],
      "text/plain": [
       "         x1\n",
       "0  3.099693\n",
       "1  4.755505\n",
       "2  7.108906"
      ]
     },
     "execution_count": 361,
     "metadata": {},
     "output_type": "execute_result"
    }
   ],
   "source": [
    "x1 = mu + sigma * np.random.randn(1000)\n",
    "data = pd.DataFrame({'x1': x1})\n",
    "data.head(3)"
   ]
  },
  {
   "cell_type": "code",
   "execution_count": 362,
   "id": "5adc174d",
   "metadata": {},
   "outputs": [
    {
     "data": {
      "image/png": "[encoded data removed]",
      "text/plain": [
       "<Figure size 640x480 with 1 Axes>"
      ]
     },
     "metadata": {},
     "output_type": "display_data"
    }
   ],
   "source": [
    "density=pd.DataFrame()\n",
    "density['x']= np.linspace(data['x1'].min() - 2.01, data['x1'].max() +0.01, 100)\n",
    "density['pdf']= norm.pdf(density['x'], mu, sigma)\n",
    "\n",
    "plt.plot(density['x'], density['pdf'], color='b')\n",
    "plt.axvline(x=3.17, c='red')                               \n",
    "x2= np.linspace(density['x'].min(), 3.17, 50)                               \n",
    "\n",
    "px=np.arange(-2,3.17,0.001)\n",
    "iq=stats.norm(mu,sigma)\n",
    "plt.fill_between(px,iq.pdf(px),color='r')\n",
    "plt.xlabel(\"breaking strength of the gunny bags\")\n",
    "plt.ylabel(\"Proportion\");"
   ]
  },
  {
   "cell_type": "markdown",
   "id": "f7b56c13",
   "metadata": {},
   "source": [
    "## 3.2) Ans:"
   ]
  },
  {
   "cell_type": "code",
   "execution_count": 363,
   "id": "8a1648b5",
   "metadata": {},
   "outputs": [
    {
     "name": "stdout",
     "output_type": "stream",
     "text": [
      "The proportion of the gunny bags having a breaking strength at least 3.6 kg per sq cm is 0.82\n"
     ]
    }
   ],
   "source": [
    "# proportion of the gunny bags having a breaking strength at least 3.6 kg per sq cm\n",
    "z=(3.6-mu)/sigma\n",
    "prop_atleast_3_6 = 1 - stats.norm.cdf(z)\n",
    "print('The proportion of the gunny bags having a breaking strength at least 3.6 kg per sq cm is', round(prop_atleast_3_6, 2))"
   ]
  },
  {
   "cell_type": "code",
   "execution_count": 364,
   "id": "570f6758",
   "metadata": {},
   "outputs": [
    {
     "data": {
      "text/html": [
       "<div>\n",
       "<style scoped>\n",
       "    .dataframe tbody tr th:only-of-type {\n",
       "        vertical-align: middle;\n",
       "    }\n",
       "\n",
       "    .dataframe tbody tr th {\n",
       "        vertical-align: top;\n",
       "    }\n",
       "\n",
       "    .dataframe thead th {\n",
       "        text-align: right;\n",
       "    }\n",
       "</style>\n",
       "<table border=\"1\" class=\"dataframe\">\n",
       "  <thead>\n",
       "    <tr style=\"text-align: right;\">\n",
       "      <th></th>\n",
       "      <th>x3</th>\n",
       "    </tr>\n",
       "  </thead>\n",
       "  <tbody>\n",
       "    <tr>\n",
       "      <th>0</th>\n",
       "      <td>4.408121</td>\n",
       "    </tr>\n",
       "    <tr>\n",
       "      <th>1</th>\n",
       "      <td>4.039845</td>\n",
       "    </tr>\n",
       "    <tr>\n",
       "      <th>2</th>\n",
       "      <td>6.662948</td>\n",
       "    </tr>\n",
       "  </tbody>\n",
       "</table>\n",
       "</div>"
      ],
      "text/plain": [
       "         x3\n",
       "0  4.408121\n",
       "1  4.039845\n",
       "2  6.662948"
      ]
     },
     "execution_count": 364,
     "metadata": {},
     "output_type": "execute_result"
    }
   ],
   "source": [
    "x3 = mu + sigma * np.random.randn(1000)\n",
    "data_1 = pd.DataFrame({'x3': x3})\n",
    "data_1.head(3)"
   ]
  },
  {
   "cell_type": "code",
   "execution_count": 365,
   "id": "cc0fa901",
   "metadata": {},
   "outputs": [
    {
     "data": {
      "image/png": "[encoded data removed]",
      "text/plain": [
       "<Figure size 640x480 with 1 Axes>"
      ]
     },
     "metadata": {},
     "output_type": "display_data"
    }
   ],
   "source": [
    "density=pd.DataFrame()\n",
    "density['x']= np.linspace(data_1['x3'].min() - 2.01, data_1['x3'].max() +2.01, 100)\n",
    "density['pdf']= norm.pdf(density['x'], mu, sigma)\n",
    "\n",
    "plt.plot(density['x'], density['pdf'], color='b')\n",
    "plt.axvline(x=3.6, c='red')                               \n",
    "x4= np.linspace(density['x'].min(), 3.6, 50)                               \n",
    "\n",
    "px=np.arange(3.6, 12 ,0.001)\n",
    "iq=stats.norm(mu,sigma)\n",
    "plt.fill_between(px,iq.pdf(px),color='r')\n",
    "plt.xlabel(\"breaking strength of the gunny bags\")\n",
    "plt.ylabel(\"Proportion\");"
   ]
  },
  {
   "cell_type": "markdown",
   "id": "06a865d6",
   "metadata": {},
   "source": [
    "## 3.3) Ans:"
   ]
  },
  {
   "cell_type": "code",
   "execution_count": 366,
   "id": "db333b86",
   "metadata": {},
   "outputs": [
    {
     "name": "stdout",
     "output_type": "stream",
     "text": [
      "The proportion of the gunny bags having a breaking strength between 5 and 5.5 kg per sq cm is 0.13\n"
     ]
    }
   ],
   "source": [
    "# proportion of the gunny bags having a breaking strength between 5 and 5.5 kg per sq cm.\n",
    "z1=(5-mu)/sigma\n",
    "z2=(5.5-mu)/sigma\n",
    "prop_between_5_and_5_5 = stats.norm.cdf(z2)-stats.norm.cdf(z1)\n",
    "print('The proportion of the gunny bags having a breaking strength between 5 and 5.5 kg per sq cm is', round(prop_between_5_and_5_5, 2))"
   ]
  },
  {
   "cell_type": "code",
   "execution_count": 367,
   "id": "b6405da6",
   "metadata": {},
   "outputs": [
    {
     "data": {
      "text/html": [
       "<div>\n",
       "<style scoped>\n",
       "    .dataframe tbody tr th:only-of-type {\n",
       "        vertical-align: middle;\n",
       "    }\n",
       "\n",
       "    .dataframe tbody tr th {\n",
       "        vertical-align: top;\n",
       "    }\n",
       "\n",
       "    .dataframe thead th {\n",
       "        text-align: right;\n",
       "    }\n",
       "</style>\n",
       "<table border=\"1\" class=\"dataframe\">\n",
       "  <thead>\n",
       "    <tr style=\"text-align: right;\">\n",
       "      <th></th>\n",
       "      <th>x5</th>\n",
       "    </tr>\n",
       "  </thead>\n",
       "  <tbody>\n",
       "    <tr>\n",
       "      <th>0</th>\n",
       "      <td>4.204373</td>\n",
       "    </tr>\n",
       "    <tr>\n",
       "      <th>1</th>\n",
       "      <td>5.900639</td>\n",
       "    </tr>\n",
       "    <tr>\n",
       "      <th>2</th>\n",
       "      <td>4.112199</td>\n",
       "    </tr>\n",
       "  </tbody>\n",
       "</table>\n",
       "</div>"
      ],
      "text/plain": [
       "         x5\n",
       "0  4.204373\n",
       "1  5.900639\n",
       "2  4.112199"
      ]
     },
     "execution_count": 367,
     "metadata": {},
     "output_type": "execute_result"
    }
   ],
   "source": [
    "x5 = mu + sigma * np.random.randn(1000)\n",
    "data_2 = pd.DataFrame({'x5': x5})\n",
    "data_2.head(3)"
   ]
  },
  {
   "cell_type": "code",
   "execution_count": 368,
   "id": "049212ee",
   "metadata": {
    "scrolled": false
   },
   "outputs": [
    {
     "data": {
      "image/png": "[encoded data removed]",
      "text/plain": [
       "<Figure size 640x480 with 1 Axes>"
      ]
     },
     "metadata": {},
     "output_type": "display_data"
    }
   ],
   "source": [
    "density=pd.DataFrame()\n",
    "density['x']= np.linspace(data_2['x5'].min() - 2.01, data_2['x5'].max() +2.01, 100)\n",
    "density['pdf']= norm.pdf(density['x'], mu, sigma)\n",
    "\n",
    "plt.plot(density['x'], density['pdf'], color='b')\n",
    "plt.axvline(x=5, c='red') \n",
    "plt.axvline(x=5.5, c='red') \n",
    "x6= np.linspace(density['x'].min(), 5 , 50)                               \n",
    "\n",
    "px=np.arange(5, 5.5 ,0.001)\n",
    "iq=stats.norm(mu,sigma)\n",
    "plt.fill_between(px,iq.pdf(px),color='r')\n",
    "plt.xlabel(\"breaking strength of the gunny bags\")\n",
    "plt.ylabel(\"Proportion\");"
   ]
  },
  {
   "cell_type": "markdown",
   "id": "2ff612de",
   "metadata": {},
   "source": [
    "## 3.4) Ans:"
   ]
  },
  {
   "cell_type": "code",
   "execution_count": 369,
   "id": "07c91b32",
   "metadata": {},
   "outputs": [
    {
     "name": "stdout",
     "output_type": "stream",
     "text": [
      "The proportion of the gunny bags having a breaking strength NOT between 3 and 7.5 kg per sq cm is 0.14\n"
     ]
    }
   ],
   "source": [
    "# proportion of the gunny bags having a breaking strength NOT between 3 and 7.5 kg per sq cm.\n",
    "z3=(3-mu)/sigma\n",
    "z4=(7.5-mu)/sigma\n",
    "prop_not_between_3_and_7_5 = stats.norm.cdf(z3) + 1 - stats.norm.cdf(z4)\n",
    "print('The proportion of the gunny bags having a breaking strength NOT between 3 and 7.5 kg per sq cm is', round(prop_not_between_3_and_7_5, 2))"
   ]
  },
  {
   "cell_type": "code",
   "execution_count": 370,
   "id": "46f92b93",
   "metadata": {},
   "outputs": [
    {
     "data": {
      "text/html": [
       "<div>\n",
       "<style scoped>\n",
       "    .dataframe tbody tr th:only-of-type {\n",
       "        vertical-align: middle;\n",
       "    }\n",
       "\n",
       "    .dataframe tbody tr th {\n",
       "        vertical-align: top;\n",
       "    }\n",
       "\n",
       "    .dataframe thead th {\n",
       "        text-align: right;\n",
       "    }\n",
       "</style>\n",
       "<table border=\"1\" class=\"dataframe\">\n",
       "  <thead>\n",
       "    <tr style=\"text-align: right;\">\n",
       "      <th></th>\n",
       "      <th>x7</th>\n",
       "    </tr>\n",
       "  </thead>\n",
       "  <tbody>\n",
       "    <tr>\n",
       "      <th>0</th>\n",
       "      <td>5.002897</td>\n",
       "    </tr>\n",
       "    <tr>\n",
       "      <th>1</th>\n",
       "      <td>6.503593</td>\n",
       "    </tr>\n",
       "    <tr>\n",
       "      <th>2</th>\n",
       "      <td>7.371605</td>\n",
       "    </tr>\n",
       "  </tbody>\n",
       "</table>\n",
       "</div>"
      ],
      "text/plain": [
       "         x7\n",
       "0  5.002897\n",
       "1  6.503593\n",
       "2  7.371605"
      ]
     },
     "execution_count": 370,
     "metadata": {},
     "output_type": "execute_result"
    }
   ],
   "source": [
    "x7 = mu + sigma * np.random.randn(1000)\n",
    "data_3 = pd.DataFrame({'x7': x7})\n",
    "data_3.head(3)"
   ]
  },
  {
   "cell_type": "code",
   "execution_count": 371,
   "id": "ffcd9c9b",
   "metadata": {},
   "outputs": [
    {
     "data": {
      "image/png": "[encoded data removed]",
      "text/plain": [
       "<Figure size 640x480 with 1 Axes>"
      ]
     },
     "metadata": {},
     "output_type": "display_data"
    }
   ],
   "source": [
    "density=pd.DataFrame()\n",
    "density['x']= np.linspace(data_3['x7'].min() - 3.01, data_3['x7'].max() +3.01, 100)\n",
    "density['pdf']= norm.pdf(density['x'], mu, sigma)\n",
    "\n",
    "plt.plot(density['x'], density['pdf'], color='b')\n",
    "plt.axvline(x=3, c='red') \n",
    "plt.axvline(x=7.5, c='red') \n",
    "x6= np.linspace(density['x'].min(), 5 , 50)                               \n",
    "\n",
    "px=np.arange(7.5, 11 ,0.001)\n",
    "iq=stats.norm(mu,sigma)\n",
    "plt.fill_between(px,iq.pdf(px),color='r')\n",
    "px1=np.arange(-2, 3 ,0.001)\n",
    "iq1=stats.norm(mu,sigma)\n",
    "plt.fill_between(px1,iq1.pdf(px1),color='r')\n",
    "plt.xlabel(\"breaking strength of the gunny bags\")\n",
    "plt.ylabel(\"Proportion\");"
   ]
  },
  {
   "cell_type": "markdown",
   "id": "155e4894",
   "metadata": {},
   "source": [
    "# Problem 4"
   ]
  },
  {
   "cell_type": "code",
   "execution_count": 372,
   "id": "8d10dc36",
   "metadata": {},
   "outputs": [],
   "source": [
    "mu = 77\n",
    "sigma = 8.5 "
   ]
  },
  {
   "cell_type": "markdown",
   "id": "8b827443",
   "metadata": {},
   "source": [
    "## 4.1) Ans:"
   ]
  },
  {
   "cell_type": "code",
   "execution_count": 373,
   "id": "615c36df",
   "metadata": {},
   "outputs": [
    {
     "name": "stdout",
     "output_type": "stream",
     "text": [
      "The probability that a randomly chosen student gets a grade below 85 on this exam is 0.83\n"
     ]
    }
   ],
   "source": [
    "# probability that a randomly chosen student gets a grade below 85\n",
    "z=(85-mu)/sigma\n",
    "prob_less_than_85 = stats.norm.cdf(z)\n",
    "print('The probability that a randomly chosen student gets a grade below 85 on this exam is', round(prob_less_than_85, 2))"
   ]
  },
  {
   "cell_type": "code",
   "execution_count": 374,
   "id": "6ce7fbf0",
   "metadata": {},
   "outputs": [
    {
     "data": {
      "text/html": [
       "<div>\n",
       "<style scoped>\n",
       "    .dataframe tbody tr th:only-of-type {\n",
       "        vertical-align: middle;\n",
       "    }\n",
       "\n",
       "    .dataframe tbody tr th {\n",
       "        vertical-align: top;\n",
       "    }\n",
       "\n",
       "    .dataframe thead th {\n",
       "        text-align: right;\n",
       "    }\n",
       "</style>\n",
       "<table border=\"1\" class=\"dataframe\">\n",
       "  <thead>\n",
       "    <tr style=\"text-align: right;\">\n",
       "      <th></th>\n",
       "      <th>r1</th>\n",
       "    </tr>\n",
       "  </thead>\n",
       "  <tbody>\n",
       "    <tr>\n",
       "      <th>0</th>\n",
       "      <td>81.093611</td>\n",
       "    </tr>\n",
       "    <tr>\n",
       "      <th>1</th>\n",
       "      <td>77.282571</td>\n",
       "    </tr>\n",
       "    <tr>\n",
       "      <th>2</th>\n",
       "      <td>73.199505</td>\n",
       "    </tr>\n",
       "  </tbody>\n",
       "</table>\n",
       "</div>"
      ],
      "text/plain": [
       "          r1\n",
       "0  81.093611\n",
       "1  77.282571\n",
       "2  73.199505"
      ]
     },
     "execution_count": 374,
     "metadata": {},
     "output_type": "execute_result"
    }
   ],
   "source": [
    "r1 = mu + sigma * np.random.randn(1000)\n",
    "data = pd.DataFrame({'r1': r1})\n",
    "data.head(3)"
   ]
  },
  {
   "cell_type": "code",
   "execution_count": 375,
   "id": "c4b789b6",
   "metadata": {},
   "outputs": [
    {
     "data": {
      "image/png": "[encoded data removed]",
      "text/plain": [
       "<Figure size 640x480 with 1 Axes>"
      ]
     },
     "metadata": {},
     "output_type": "display_data"
    }
   ],
   "source": [
    "density=pd.DataFrame()\n",
    "density['x']= np.linspace(data['r1'].min() - 0.01, data['r1'].max() +0.01, 100)\n",
    "density['pdf']= norm.pdf(density['x'], mu, sigma)\n",
    "\n",
    "plt.plot(density['x'], density['pdf'], color='b')\n",
    "plt.axvline(x=85, c='red')                               \n",
    "x1= np.linspace(density['x'].min(), 85, 50)                               \n",
    "\n",
    "px=np.arange(46, 85, 0.001)\n",
    "iq=stats.norm(mu,sigma)\n",
    "plt.fill_between(px,iq.pdf(px),color='r')\n",
    "plt.xlabel(\"Grades\")\n",
    "plt.ylabel(\"Probability\");"
   ]
  },
  {
   "cell_type": "markdown",
   "id": "8dbd95fc",
   "metadata": {},
   "source": [
    "## 4.2) Ans:"
   ]
  },
  {
   "cell_type": "code",
   "execution_count": 376,
   "id": "957ef15b",
   "metadata": {},
   "outputs": [
    {
     "name": "stdout",
     "output_type": "stream",
     "text": [
      "The probability that a randomly selected student scores between 65 and 87 is 0.8\n"
     ]
    }
   ],
   "source": [
    "# the probability that a randomly selected student scores between 65 and 87\n",
    "z1=(65-mu)/sigma\n",
    "z2=(87-mu)/sigma\n",
    "prob_between_65_and_87 = stats.norm.cdf(z2)-stats.norm.cdf(z1)\n",
    "print('The probability that a randomly selected student scores between 65 and 87 is', round(prob_between_65_and_87, 2))"
   ]
  },
  {
   "cell_type": "code",
   "execution_count": 377,
   "id": "6d1271bd",
   "metadata": {},
   "outputs": [
    {
     "data": {
      "text/html": [
       "<div>\n",
       "<style scoped>\n",
       "    .dataframe tbody tr th:only-of-type {\n",
       "        vertical-align: middle;\n",
       "    }\n",
       "\n",
       "    .dataframe tbody tr th {\n",
       "        vertical-align: top;\n",
       "    }\n",
       "\n",
       "    .dataframe thead th {\n",
       "        text-align: right;\n",
       "    }\n",
       "</style>\n",
       "<table border=\"1\" class=\"dataframe\">\n",
       "  <thead>\n",
       "    <tr style=\"text-align: right;\">\n",
       "      <th></th>\n",
       "      <th>r2</th>\n",
       "    </tr>\n",
       "  </thead>\n",
       "  <tbody>\n",
       "    <tr>\n",
       "      <th>0</th>\n",
       "      <td>72.977435</td>\n",
       "    </tr>\n",
       "    <tr>\n",
       "      <th>1</th>\n",
       "      <td>64.753207</td>\n",
       "    </tr>\n",
       "    <tr>\n",
       "      <th>2</th>\n",
       "      <td>70.585287</td>\n",
       "    </tr>\n",
       "  </tbody>\n",
       "</table>\n",
       "</div>"
      ],
      "text/plain": [
       "          r2\n",
       "0  72.977435\n",
       "1  64.753207\n",
       "2  70.585287"
      ]
     },
     "execution_count": 377,
     "metadata": {},
     "output_type": "execute_result"
    }
   ],
   "source": [
    "r2 = mu + sigma * np.random.randn(1000)\n",
    "data_1 = pd.DataFrame({'r2': r2})\n",
    "data_1.head(3)"
   ]
  },
  {
   "cell_type": "code",
   "execution_count": 378,
   "id": "bb22ba61",
   "metadata": {},
   "outputs": [
    {
     "data": {
      "image/png": "[encoded data removed]",
      "text/plain": [
       "<Figure size 640x480 with 1 Axes>"
      ]
     },
     "metadata": {},
     "output_type": "display_data"
    }
   ],
   "source": [
    "density=pd.DataFrame()\n",
    "density['x']= np.linspace(data_1['r2'].min() - 2.01, data_1['r2'].max() +2.01, 100)\n",
    "density['pdf']= norm.pdf(density['x'], mu, sigma)\n",
    "\n",
    "plt.plot(density['x'], density['pdf'], color='b')\n",
    "plt.axvline(x=65, c='red') \n",
    "plt.axvline(x=87, c='red') \n",
    "x2= np.linspace(density['x'].min(), 65 , 50)                               \n",
    "\n",
    "px=np.arange(65, 87 ,0.001)\n",
    "iq=stats.norm(mu,sigma)\n",
    "plt.fill_between(px,iq.pdf(px),color='r')\n",
    "plt.xlabel(\"Grades\")\n",
    "plt.ylabel(\"Probability\");"
   ]
  },
  {
   "cell_type": "markdown",
   "id": "67e15f29",
   "metadata": {},
   "source": [
    "## 4.3) Ans:"
   ]
  },
  {
   "cell_type": "code",
   "execution_count": 379,
   "id": "aeb3d381",
   "metadata": {},
   "outputs": [
    {
     "name": "stdout",
     "output_type": "stream",
     "text": [
      "The passing cut-off so that 75% of the students clear the exam is 71.27\n"
     ]
    }
   ],
   "source": [
    "# the passing cut-off so that 75% of the students clear the exam\n",
    "# We can try checking for the below 25% of students\n",
    "passing_cutoff=stats.norm.ppf(0.25, mu,sigma)\n",
    "print('The passing cut-off so that 75% of the students clear the exam is', round(passing_cutoff, 2))"
   ]
  },
  {
   "cell_type": "code",
   "execution_count": 380,
   "id": "8dc0e962",
   "metadata": {},
   "outputs": [
    {
     "data": {
      "text/html": [
       "<div>\n",
       "<style scoped>\n",
       "    .dataframe tbody tr th:only-of-type {\n",
       "        vertical-align: middle;\n",
       "    }\n",
       "\n",
       "    .dataframe tbody tr th {\n",
       "        vertical-align: top;\n",
       "    }\n",
       "\n",
       "    .dataframe thead th {\n",
       "        text-align: right;\n",
       "    }\n",
       "</style>\n",
       "<table border=\"1\" class=\"dataframe\">\n",
       "  <thead>\n",
       "    <tr style=\"text-align: right;\">\n",
       "      <th></th>\n",
       "      <th>r3</th>\n",
       "    </tr>\n",
       "  </thead>\n",
       "  <tbody>\n",
       "    <tr>\n",
       "      <th>0</th>\n",
       "      <td>72.450357</td>\n",
       "    </tr>\n",
       "    <tr>\n",
       "      <th>1</th>\n",
       "      <td>93.181761</td>\n",
       "    </tr>\n",
       "    <tr>\n",
       "      <th>2</th>\n",
       "      <td>77.984452</td>\n",
       "    </tr>\n",
       "  </tbody>\n",
       "</table>\n",
       "</div>"
      ],
      "text/plain": [
       "          r3\n",
       "0  72.450357\n",
       "1  93.181761\n",
       "2  77.984452"
      ]
     },
     "execution_count": 380,
     "metadata": {},
     "output_type": "execute_result"
    }
   ],
   "source": [
    "r3 = mu + sigma * np.random.randn(1000)\n",
    "data_2 = pd.DataFrame({'r3': r3})\n",
    "data_2.head(3)"
   ]
  },
  {
   "cell_type": "code",
   "execution_count": 381,
   "id": "1043dfe2",
   "metadata": {},
   "outputs": [
    {
     "data": {
      "image/png": "[encoded data removed]",
      "text/plain": [
       "<Figure size 640x480 with 1 Axes>"
      ]
     },
     "metadata": {},
     "output_type": "display_data"
    }
   ],
   "source": [
    "density=pd.DataFrame()\n",
    "density['x']= np.linspace(data_2['r3'].min() - 0.01, data_2['r3'].max() +0.01, 100)\n",
    "density['pdf']= norm.pdf(density['x'], mu, sigma)\n",
    "\n",
    "plt.plot(density['x'], density['pdf'], color='b')\n",
    "plt.axvline(x=71.27, c='red')                               \n",
    "x3= np.linspace(density['x'].min(), 71.27, 50)                               \n",
    "\n",
    "px=np.arange(71.27, 100 ,0.001)\n",
    "iq=stats.norm(mu,sigma)\n",
    "plt.fill_between(px,iq.pdf(px),color='r')\n",
    "plt.xlabel(\"Grades\")\n",
    "plt.ylabel(\"Probability\");"
   ]
  },
  {
   "cell_type": "markdown",
   "id": "ad17011f",
   "metadata": {},
   "source": [
    "# Problem 5"
   ]
  },
  {
   "cell_type": "markdown",
   "id": "21ce8184",
   "metadata": {},
   "source": [
    "mu = 150\n",
    "\n",
    "n = 75\n",
    "\n",
    "Alpha = 0.05"
   ]
  },
  {
   "cell_type": "code",
   "execution_count": 382,
   "id": "9be6c9b0",
   "metadata": {},
   "outputs": [
    {
     "data": {
      "text/html": [
       "<div>\n",
       "<style scoped>\n",
       "    .dataframe tbody tr th:only-of-type {\n",
       "        vertical-align: middle;\n",
       "    }\n",
       "\n",
       "    .dataframe tbody tr th {\n",
       "        vertical-align: top;\n",
       "    }\n",
       "\n",
       "    .dataframe thead th {\n",
       "        text-align: right;\n",
       "    }\n",
       "</style>\n",
       "<table border=\"1\" class=\"dataframe\">\n",
       "  <thead>\n",
       "    <tr style=\"text-align: right;\">\n",
       "      <th></th>\n",
       "      <th>Unpolished</th>\n",
       "      <th>Treated and Polished</th>\n",
       "    </tr>\n",
       "  </thead>\n",
       "  <tbody>\n",
       "    <tr>\n",
       "      <th>0</th>\n",
       "      <td>164.481713</td>\n",
       "      <td>133.209393</td>\n",
       "    </tr>\n",
       "    <tr>\n",
       "      <th>1</th>\n",
       "      <td>154.307045</td>\n",
       "      <td>138.482771</td>\n",
       "    </tr>\n",
       "  </tbody>\n",
       "</table>\n",
       "</div>"
      ],
      "text/plain": [
       "   Unpolished   Treated and Polished\n",
       "0   164.481713            133.209393\n",
       "1   154.307045            138.482771"
      ]
     },
     "execution_count": 382,
     "metadata": {},
     "output_type": "execute_result"
    }
   ],
   "source": [
    "df=pd.read_csv(\"Zingaro_Company.csv\")\n",
    "df.head(2)"
   ]
  },
  {
   "cell_type": "code",
   "execution_count": 383,
   "id": "975453d5",
   "metadata": {},
   "outputs": [
    {
     "data": {
      "text/plain": [
       "(75, 2)"
      ]
     },
     "execution_count": 383,
     "metadata": {},
     "output_type": "execute_result"
    }
   ],
   "source": [
    "df.shape"
   ]
  },
  {
   "cell_type": "markdown",
   "id": "abbe6fb6",
   "metadata": {},
   "source": [
    "## 5.1) Ans:"
   ]
  },
  {
   "cell_type": "markdown",
   "id": "7966f571",
   "metadata": {},
   "source": [
    "Ho = unpolished stones may be suitable for printing i.e., >= 150\n",
    "\n",
    "Ha = unpolished stones may not be suitable for printing i.e., < 150"
   ]
  },
  {
   "cell_type": "code",
   "execution_count": 384,
   "id": "b83b8cef",
   "metadata": {},
   "outputs": [
    {
     "data": {
      "text/html": [
       "<div>\n",
       "<style scoped>\n",
       "    .dataframe tbody tr th:only-of-type {\n",
       "        vertical-align: middle;\n",
       "    }\n",
       "\n",
       "    .dataframe tbody tr th {\n",
       "        vertical-align: top;\n",
       "    }\n",
       "\n",
       "    .dataframe thead th {\n",
       "        text-align: right;\n",
       "    }\n",
       "</style>\n",
       "<table border=\"1\" class=\"dataframe\">\n",
       "  <thead>\n",
       "    <tr style=\"text-align: right;\">\n",
       "      <th></th>\n",
       "      <th>Unpolished</th>\n",
       "      <th>Treated and Polished</th>\n",
       "    </tr>\n",
       "  </thead>\n",
       "  <tbody>\n",
       "    <tr>\n",
       "      <th>count</th>\n",
       "      <td>75.000000</td>\n",
       "      <td>75.000000</td>\n",
       "    </tr>\n",
       "    <tr>\n",
       "      <th>mean</th>\n",
       "      <td>134.110527</td>\n",
       "      <td>147.788117</td>\n",
       "    </tr>\n",
       "    <tr>\n",
       "      <th>std</th>\n",
       "      <td>33.041804</td>\n",
       "      <td>15.587355</td>\n",
       "    </tr>\n",
       "    <tr>\n",
       "      <th>min</th>\n",
       "      <td>48.406838</td>\n",
       "      <td>107.524167</td>\n",
       "    </tr>\n",
       "    <tr>\n",
       "      <th>25%</th>\n",
       "      <td>115.329753</td>\n",
       "      <td>138.268300</td>\n",
       "    </tr>\n",
       "    <tr>\n",
       "      <th>50%</th>\n",
       "      <td>135.597121</td>\n",
       "      <td>145.721322</td>\n",
       "    </tr>\n",
       "    <tr>\n",
       "      <th>75%</th>\n",
       "      <td>158.215098</td>\n",
       "      <td>157.373318</td>\n",
       "    </tr>\n",
       "    <tr>\n",
       "      <th>max</th>\n",
       "      <td>200.161313</td>\n",
       "      <td>192.272856</td>\n",
       "    </tr>\n",
       "  </tbody>\n",
       "</table>\n",
       "</div>"
      ],
      "text/plain": [
       "       Unpolished   Treated and Polished\n",
       "count    75.000000             75.000000\n",
       "mean    134.110527            147.788117\n",
       "std      33.041804             15.587355\n",
       "min      48.406838            107.524167\n",
       "25%     115.329753            138.268300\n",
       "50%     135.597121            145.721322\n",
       "75%     158.215098            157.373318\n",
       "max     200.161313            192.272856"
      ]
     },
     "execution_count": 384,
     "metadata": {},
     "output_type": "execute_result"
    }
   ],
   "source": [
    "# As standard deviation of population not known, we can opt t test;   t test = (x_bar - mu) / (s/np.sqrt(n))\n",
    "\n",
    "df.describe()"
   ]
  },
  {
   "cell_type": "markdown",
   "id": "1583b814",
   "metadata": {},
   "source": [
    "### i) Unpolished t test"
   ]
  },
  {
   "cell_type": "code",
   "execution_count": 385,
   "id": "24cb2b42",
   "metadata": {},
   "outputs": [
    {
     "data": {
      "text/plain": [
       "-1.665706892645352"
      ]
     },
     "execution_count": 385,
     "metadata": {},
     "output_type": "execute_result"
    }
   ],
   "source": [
    "# critical value of the t test from the t table\n",
    "cv = stats.t.ppf(0.05, 74)\n",
    "cv"
   ]
  },
  {
   "cell_type": "code",
   "execution_count": 386,
   "id": "7a0d387e",
   "metadata": {},
   "outputs": [
    {
     "data": {
      "text/plain": [
       "TtestResult(statistic=array([-4.1646296 , -1.22891066]), pvalue=array([8.34257399e-05, 2.22998968e-01]), df=array([74, 74]))"
      ]
     },
     "execution_count": 386,
     "metadata": {},
     "output_type": "execute_result"
    }
   ],
   "source": [
    "# T statistic and p value\n",
    "\n",
    "stats.ttest_1samp(df, 150)"
   ]
  },
  {
   "cell_type": "markdown",
   "id": "736e6c7e",
   "metadata": {},
   "source": [
    "### **Unpolished**\n",
    "\n",
    "### T test statistic = - 4.1646296\n",
    "\n",
    "### p value = 8.34257399e-05"
   ]
  },
  {
   "cell_type": "code",
   "execution_count": 387,
   "id": "36405794",
   "metadata": {},
   "outputs": [
    {
     "name": "stdout",
     "output_type": "stream",
     "text": [
      "Reject the null hypothesis\n"
     ]
    }
   ],
   "source": [
    "if 8.34257399e-05 < 0.05:\n",
    "    print('Reject the null hypothesis')\n",
    "else:\n",
    "    print('Fail to reject the null hypothesis')"
   ]
  },
  {
   "cell_type": "markdown",
   "id": "ca9de323",
   "metadata": {},
   "source": [
    "## As p value < α, we can reject the null hypothesis with 95% confidence. \n",
    "\n",
    "## Zingaro is justified in this case i.e., unpolished stones are not suitable for printing and has Brinell's hardness index less than 150."
   ]
  },
  {
   "cell_type": "markdown",
   "id": "bc4a59e5",
   "metadata": {},
   "source": [
    "#### Additionally,\n",
    "\n",
    "### ii)Treated and Polished\n",
    "\n",
    "Ho = Polished stone surface have a Brinell's hardness index of at least 150 (>=150)\n",
    "\n",
    "Ha = Polished stone surface DO NOT have a Brinell's hardness index of at least 150 (<150)"
   ]
  },
  {
   "cell_type": "code",
   "execution_count": 388,
   "id": "89a65be6",
   "metadata": {},
   "outputs": [
    {
     "data": {
      "text/plain": [
       "-1.665706892645352"
      ]
     },
     "execution_count": 388,
     "metadata": {},
     "output_type": "execute_result"
    }
   ],
   "source": [
    "# critical value of the t test from the t table\n",
    "cv = stats.t.ppf(0.05, 74)\n",
    "cv"
   ]
  },
  {
   "cell_type": "code",
   "execution_count": 389,
   "id": "a1758f87",
   "metadata": {},
   "outputs": [
    {
     "data": {
      "text/plain": [
       "TtestResult(statistic=array([-4.1646296 , -1.22891066]), pvalue=array([8.34257399e-05, 2.22998968e-01]), df=array([74, 74]))"
      ]
     },
     "execution_count": 389,
     "metadata": {},
     "output_type": "execute_result"
    }
   ],
   "source": [
    "# T statistic and p value\n",
    "\n",
    "stats.ttest_1samp(df, 150)"
   ]
  },
  {
   "cell_type": "markdown",
   "id": "5035df9d",
   "metadata": {},
   "source": [
    "### **polished**\n",
    "\n",
    "### T test statistic = - 1.22891066\n",
    "\n",
    "### p value = 2.22998968e-01"
   ]
  },
  {
   "cell_type": "code",
   "execution_count": 390,
   "id": "549f7816",
   "metadata": {},
   "outputs": [
    {
     "name": "stdout",
     "output_type": "stream",
     "text": [
      "Fail to reject the null hypothesis\n"
     ]
    }
   ],
   "source": [
    "if 2.22998968e-01 < 0.05:\n",
    "    print('Reject the null hypothesis')\n",
    "else:\n",
    "    print('Fail to reject the null hypothesis')"
   ]
  },
  {
   "cell_type": "markdown",
   "id": "45c9b401",
   "metadata": {},
   "source": [
    "## As p value > α, we Fail to  reject the null hypothesis.  i.e., Polished stone surface has a Brinell's hardness index of at least 150."
   ]
  },
  {
   "cell_type": "markdown",
   "id": "e4cd773a",
   "metadata": {},
   "source": [
    "## 5.2) Ans:"
   ]
  },
  {
   "cell_type": "markdown",
   "id": "0a3487a5",
   "metadata": {},
   "source": [
    "#### 2 tailed test\n",
    "\n",
    "Ho = mean hardness of the polished and unpolished stones are the same\n",
    "\n",
    "Ha = mean hardness of the polished and unpolished stones are NOT the same"
   ]
  },
  {
   "cell_type": "code",
   "execution_count": 391,
   "id": "c545d256",
   "metadata": {},
   "outputs": [
    {
     "data": {
      "text/html": [
       "<div>\n",
       "<style scoped>\n",
       "    .dataframe tbody tr th:only-of-type {\n",
       "        vertical-align: middle;\n",
       "    }\n",
       "\n",
       "    .dataframe tbody tr th {\n",
       "        vertical-align: top;\n",
       "    }\n",
       "\n",
       "    .dataframe thead th {\n",
       "        text-align: right;\n",
       "    }\n",
       "</style>\n",
       "<table border=\"1\" class=\"dataframe\">\n",
       "  <thead>\n",
       "    <tr style=\"text-align: right;\">\n",
       "      <th></th>\n",
       "      <th>Unpolished</th>\n",
       "      <th>Treated and Polished</th>\n",
       "    </tr>\n",
       "  </thead>\n",
       "  <tbody>\n",
       "    <tr>\n",
       "      <th>0</th>\n",
       "      <td>164.481713</td>\n",
       "      <td>133.209393</td>\n",
       "    </tr>\n",
       "    <tr>\n",
       "      <th>1</th>\n",
       "      <td>154.307045</td>\n",
       "      <td>138.482771</td>\n",
       "    </tr>\n",
       "  </tbody>\n",
       "</table>\n",
       "</div>"
      ],
      "text/plain": [
       "   Unpolished  Treated and Polished\n",
       "0  164.481713            133.209393\n",
       "1  154.307045            138.482771"
      ]
     },
     "execution_count": 391,
     "metadata": {},
     "output_type": "execute_result"
    }
   ],
   "source": [
    "dataframe=df.copy()\n",
    "dataframe.columns = [i.rstrip() for i in dataframe.columns]\n",
    "dataframe.head(2)"
   ]
  },
  {
   "cell_type": "code",
   "execution_count": 392,
   "id": "9680a92c",
   "metadata": {},
   "outputs": [
    {
     "name": "stdout",
     "output_type": "stream",
     "text": [
      "t_statistic -3.2422320501414053\n",
      "p value 0.0014655150194628353\n"
     ]
    }
   ],
   "source": [
    "t_stat, p_value = ttest_ind(dataframe['Unpolished'],dataframe['Treated and Polished'])\n",
    "print('t_statistic', t_stat)\n",
    "print('p value', p_value)"
   ]
  },
  {
   "cell_type": "code",
   "execution_count": 393,
   "id": "1ff2335d",
   "metadata": {},
   "outputs": [
    {
     "name": "stdout",
     "output_type": "stream",
     "text": [
      "Reject the null hypothesis\n"
     ]
    }
   ],
   "source": [
    "if p_value < 0.05:\n",
    "    print('Reject the null hypothesis')\n",
    "else:\n",
    "    print('Fail to reject the null hypothesis')"
   ]
  },
  {
   "cell_type": "markdown",
   "id": "282ab0e4",
   "metadata": {},
   "source": [
    "## As p value < α, we can Reject the null hypothesis.  i.e., Mean hardness of the polished and unpolished stones are NOT the same in this case."
   ]
  },
  {
   "cell_type": "markdown",
   "id": "f3a2a5cd",
   "metadata": {},
   "source": [
    "# Problem 6"
   ]
  },
  {
   "cell_type": "markdown",
   "id": "acfbbd4c",
   "metadata": {},
   "source": [
    "## 6) Ans:"
   ]
  },
  {
   "cell_type": "code",
   "execution_count": 394,
   "id": "3caed15a",
   "metadata": {},
   "outputs": [
    {
     "data": {
      "text/html": [
       "<div>\n",
       "<style scoped>\n",
       "    .dataframe tbody tr th:only-of-type {\n",
       "        vertical-align: middle;\n",
       "    }\n",
       "\n",
       "    .dataframe tbody tr th {\n",
       "        vertical-align: top;\n",
       "    }\n",
       "\n",
       "    .dataframe thead th {\n",
       "        text-align: right;\n",
       "    }\n",
       "</style>\n",
       "<table border=\"1\" class=\"dataframe\">\n",
       "  <thead>\n",
       "    <tr style=\"text-align: right;\">\n",
       "      <th></th>\n",
       "      <th>Sr no.</th>\n",
       "      <th>Before</th>\n",
       "      <th>After</th>\n",
       "    </tr>\n",
       "  </thead>\n",
       "  <tbody>\n",
       "    <tr>\n",
       "      <th>0</th>\n",
       "      <td>1</td>\n",
       "      <td>39</td>\n",
       "      <td>44</td>\n",
       "    </tr>\n",
       "    <tr>\n",
       "      <th>1</th>\n",
       "      <td>2</td>\n",
       "      <td>25</td>\n",
       "      <td>25</td>\n",
       "    </tr>\n",
       "  </tbody>\n",
       "</table>\n",
       "</div>"
      ],
      "text/plain": [
       "   Sr no.  Before  After\n",
       "0       1      39     44\n",
       "1       2      25     25"
      ]
     },
     "execution_count": 394,
     "metadata": {},
     "output_type": "execute_result"
    }
   ],
   "source": [
    "df_n=pd.read_csv(\"Aquarius_gym.csv\")\n",
    "df_n.head(2)"
   ]
  },
  {
   "cell_type": "code",
   "execution_count": 395,
   "id": "552ea210",
   "metadata": {},
   "outputs": [
    {
     "data": {
      "text/plain": [
       "(100, 3)"
      ]
     },
     "execution_count": 395,
     "metadata": {},
     "output_type": "execute_result"
    }
   ],
   "source": [
    "df_n.shape"
   ]
  },
  {
   "cell_type": "code",
   "execution_count": 396,
   "id": "91ba5679",
   "metadata": {},
   "outputs": [
    {
     "data": {
      "text/html": [
       "<div>\n",
       "<style scoped>\n",
       "    .dataframe tbody tr th:only-of-type {\n",
       "        vertical-align: middle;\n",
       "    }\n",
       "\n",
       "    .dataframe tbody tr th {\n",
       "        vertical-align: top;\n",
       "    }\n",
       "\n",
       "    .dataframe thead th {\n",
       "        text-align: right;\n",
       "    }\n",
       "</style>\n",
       "<table border=\"1\" class=\"dataframe\">\n",
       "  <thead>\n",
       "    <tr style=\"text-align: right;\">\n",
       "      <th></th>\n",
       "      <th>Sr no.</th>\n",
       "      <th>Before</th>\n",
       "      <th>After</th>\n",
       "    </tr>\n",
       "  </thead>\n",
       "  <tbody>\n",
       "    <tr>\n",
       "      <th>count</th>\n",
       "      <td>100.000000</td>\n",
       "      <td>100.000000</td>\n",
       "      <td>100.000000</td>\n",
       "    </tr>\n",
       "    <tr>\n",
       "      <th>mean</th>\n",
       "      <td>50.500000</td>\n",
       "      <td>26.940000</td>\n",
       "      <td>32.490000</td>\n",
       "    </tr>\n",
       "    <tr>\n",
       "      <th>std</th>\n",
       "      <td>29.011492</td>\n",
       "      <td>8.806357</td>\n",
       "      <td>8.779562</td>\n",
       "    </tr>\n",
       "    <tr>\n",
       "      <th>min</th>\n",
       "      <td>1.000000</td>\n",
       "      <td>3.000000</td>\n",
       "      <td>10.000000</td>\n",
       "    </tr>\n",
       "    <tr>\n",
       "      <th>25%</th>\n",
       "      <td>25.750000</td>\n",
       "      <td>21.750000</td>\n",
       "      <td>26.000000</td>\n",
       "    </tr>\n",
       "    <tr>\n",
       "      <th>50%</th>\n",
       "      <td>50.500000</td>\n",
       "      <td>28.000000</td>\n",
       "      <td>34.000000</td>\n",
       "    </tr>\n",
       "    <tr>\n",
       "      <th>75%</th>\n",
       "      <td>75.250000</td>\n",
       "      <td>32.250000</td>\n",
       "      <td>39.000000</td>\n",
       "    </tr>\n",
       "    <tr>\n",
       "      <th>max</th>\n",
       "      <td>100.000000</td>\n",
       "      <td>47.000000</td>\n",
       "      <td>51.000000</td>\n",
       "    </tr>\n",
       "  </tbody>\n",
       "</table>\n",
       "</div>"
      ],
      "text/plain": [
       "           Sr no.      Before       After\n",
       "count  100.000000  100.000000  100.000000\n",
       "mean    50.500000   26.940000   32.490000\n",
       "std     29.011492    8.806357    8.779562\n",
       "min      1.000000    3.000000   10.000000\n",
       "25%     25.750000   21.750000   26.000000\n",
       "50%     50.500000   28.000000   34.000000\n",
       "75%     75.250000   32.250000   39.000000\n",
       "max    100.000000   47.000000   51.000000"
      ]
     },
     "execution_count": 396,
     "metadata": {},
     "output_type": "execute_result"
    }
   ],
   "source": [
    "df_n.describe()"
   ]
  },
  {
   "cell_type": "markdown",
   "id": "95475476",
   "metadata": {},
   "source": [
    "#### Ho = training will not make any difference (<=5)\n",
    "\n",
    "#### Ha = training will make a difference of more than 5 (>5)\n",
    "\n",
    "α = 0.05"
   ]
  },
  {
   "cell_type": "code",
   "execution_count": 397,
   "id": "6ae7d854",
   "metadata": {},
   "outputs": [
    {
     "name": "stdout",
     "output_type": "stream",
     "text": [
      "t_statistic -19.322619811082458\n",
      "p value 1.1460209626255983e-35\n"
     ]
    }
   ],
   "source": [
    "t_stat, p_value = stats.ttest_rel (df_n['Before'],df_n['After'])\n",
    "print('t_statistic', t_stat)\n",
    "print('p value', p_value/2)             #pvalue for a one-tailed test"
   ]
  },
  {
   "cell_type": "code",
   "execution_count": 398,
   "id": "a7bd8c12",
   "metadata": {},
   "outputs": [
    {
     "name": "stdout",
     "output_type": "stream",
     "text": [
      "Reject the null hypothesis\n"
     ]
    }
   ],
   "source": [
    "if p_value < 0.05:\n",
    "    print('Reject the null hypothesis')\n",
    "else:\n",
    "    print('Fail to reject the null hypothesis')"
   ]
  },
  {
   "cell_type": "markdown",
   "id": "ceaa1cdf",
   "metadata": {},
   "source": [
    "## As p value < α, we can Reject the null hypothesis.  i.e., the training will make a difference of more than 5 push-ups, as compared to when he/she enrolled in the program."
   ]
  },
  {
   "cell_type": "markdown",
   "id": "255e6c81",
   "metadata": {},
   "source": [
    "# Problem 7"
   ]
  },
  {
   "cell_type": "code",
   "execution_count": 399,
   "id": "a9637452",
   "metadata": {},
   "outputs": [
    {
     "data": {
      "text/plain": [
       "Index(['Dentist', 'Method', 'Alloy', 'Temp', 'Response', 'Unnamed: 5',\n",
       "       'Unnamed: 6', 'Unnamed: 7', 'Unnamed: 8', 'Unnamed: 9', 'Unnamed: 10',\n",
       "       'Unnamed: 11', 'Unnamed: 12', 'Unnamed: 13'],\n",
       "      dtype='object')"
      ]
     },
     "execution_count": 399,
     "metadata": {},
     "output_type": "execute_result"
    }
   ],
   "source": [
    "df = pd.read_excel('Dental Hardness data.xlsx')\n",
    "df.columns\n"
   ]
  },
  {
   "cell_type": "code",
   "execution_count": 400,
   "id": "c6854572",
   "metadata": {},
   "outputs": [],
   "source": [
    "df.drop(['Unnamed: 5', 'Unnamed: 6', 'Unnamed: 7', 'Unnamed: 8', 'Unnamed: 9', 'Unnamed: 10',\n",
    "       'Unnamed: 11', 'Unnamed: 12', 'Unnamed: 13'], axis=1, inplace = True)\n",
    "df.drop([90,91,92,93,94,95,96,97,98,99,100,101,102,103,104,105,106], inplace = True)"
   ]
  },
  {
   "cell_type": "code",
   "execution_count": 401,
   "id": "5e9be988",
   "metadata": {},
   "outputs": [
    {
     "data": {
      "text/html": [
       "<div>\n",
       "<style scoped>\n",
       "    .dataframe tbody tr th:only-of-type {\n",
       "        vertical-align: middle;\n",
       "    }\n",
       "\n",
       "    .dataframe tbody tr th {\n",
       "        vertical-align: top;\n",
       "    }\n",
       "\n",
       "    .dataframe thead th {\n",
       "        text-align: right;\n",
       "    }\n",
       "</style>\n",
       "<table border=\"1\" class=\"dataframe\">\n",
       "  <thead>\n",
       "    <tr style=\"text-align: right;\">\n",
       "      <th></th>\n",
       "      <th>Dentist</th>\n",
       "      <th>Method</th>\n",
       "      <th>Alloy</th>\n",
       "      <th>Temp</th>\n",
       "      <th>Response</th>\n",
       "    </tr>\n",
       "  </thead>\n",
       "  <tbody>\n",
       "    <tr>\n",
       "      <th>0</th>\n",
       "      <td>1.0</td>\n",
       "      <td>1.0</td>\n",
       "      <td>1.0</td>\n",
       "      <td>1500.0</td>\n",
       "      <td>813.0</td>\n",
       "    </tr>\n",
       "    <tr>\n",
       "      <th>1</th>\n",
       "      <td>1.0</td>\n",
       "      <td>1.0</td>\n",
       "      <td>1.0</td>\n",
       "      <td>1600.0</td>\n",
       "      <td>792.0</td>\n",
       "    </tr>\n",
       "  </tbody>\n",
       "</table>\n",
       "</div>"
      ],
      "text/plain": [
       "   Dentist  Method  Alloy    Temp  Response\n",
       "0      1.0     1.0    1.0  1500.0     813.0\n",
       "1      1.0     1.0    1.0  1600.0     792.0"
      ]
     },
     "execution_count": 401,
     "metadata": {},
     "output_type": "execute_result"
    }
   ],
   "source": [
    "df_new = df.copy()\n",
    "df_new.head(2)"
   ]
  },
  {
   "cell_type": "code",
   "execution_count": 402,
   "id": "46c5a90c",
   "metadata": {},
   "outputs": [
    {
     "data": {
      "text/plain": [
       "(90, 5)"
      ]
     },
     "execution_count": 402,
     "metadata": {},
     "output_type": "execute_result"
    }
   ],
   "source": [
    "df_new.shape"
   ]
  },
  {
   "cell_type": "code",
   "execution_count": 403,
   "id": "bf1914c9",
   "metadata": {},
   "outputs": [
    {
     "data": {
      "text/html": [
       "<div>\n",
       "<style scoped>\n",
       "    .dataframe tbody tr th:only-of-type {\n",
       "        vertical-align: middle;\n",
       "    }\n",
       "\n",
       "    .dataframe tbody tr th {\n",
       "        vertical-align: top;\n",
       "    }\n",
       "\n",
       "    .dataframe thead th {\n",
       "        text-align: right;\n",
       "    }\n",
       "</style>\n",
       "<table border=\"1\" class=\"dataframe\">\n",
       "  <thead>\n",
       "    <tr style=\"text-align: right;\">\n",
       "      <th></th>\n",
       "      <th>count</th>\n",
       "      <th>mean</th>\n",
       "      <th>std</th>\n",
       "      <th>min</th>\n",
       "      <th>25%</th>\n",
       "      <th>50%</th>\n",
       "      <th>75%</th>\n",
       "      <th>max</th>\n",
       "    </tr>\n",
       "  </thead>\n",
       "  <tbody>\n",
       "    <tr>\n",
       "      <th>Dentist</th>\n",
       "      <td>90.0</td>\n",
       "      <td>3.000000</td>\n",
       "      <td>1.422136</td>\n",
       "      <td>1.0</td>\n",
       "      <td>2.0</td>\n",
       "      <td>3.0</td>\n",
       "      <td>4.0</td>\n",
       "      <td>5.0</td>\n",
       "    </tr>\n",
       "    <tr>\n",
       "      <th>Method</th>\n",
       "      <td>90.0</td>\n",
       "      <td>2.000000</td>\n",
       "      <td>0.821071</td>\n",
       "      <td>1.0</td>\n",
       "      <td>1.0</td>\n",
       "      <td>2.0</td>\n",
       "      <td>3.0</td>\n",
       "      <td>3.0</td>\n",
       "    </tr>\n",
       "    <tr>\n",
       "      <th>Alloy</th>\n",
       "      <td>90.0</td>\n",
       "      <td>1.500000</td>\n",
       "      <td>0.502801</td>\n",
       "      <td>1.0</td>\n",
       "      <td>1.0</td>\n",
       "      <td>1.5</td>\n",
       "      <td>2.0</td>\n",
       "      <td>2.0</td>\n",
       "    </tr>\n",
       "    <tr>\n",
       "      <th>Temp</th>\n",
       "      <td>90.0</td>\n",
       "      <td>1600.000000</td>\n",
       "      <td>82.107083</td>\n",
       "      <td>1500.0</td>\n",
       "      <td>1500.0</td>\n",
       "      <td>1600.0</td>\n",
       "      <td>1700.0</td>\n",
       "      <td>1700.0</td>\n",
       "    </tr>\n",
       "    <tr>\n",
       "      <th>Response</th>\n",
       "      <td>90.0</td>\n",
       "      <td>741.777778</td>\n",
       "      <td>145.767845</td>\n",
       "      <td>289.0</td>\n",
       "      <td>698.0</td>\n",
       "      <td>767.0</td>\n",
       "      <td>824.0</td>\n",
       "      <td>1115.0</td>\n",
       "    </tr>\n",
       "  </tbody>\n",
       "</table>\n",
       "</div>"
      ],
      "text/plain": [
       "          count         mean         std     min     25%     50%     75%  \\\n",
       "Dentist    90.0     3.000000    1.422136     1.0     2.0     3.0     4.0   \n",
       "Method     90.0     2.000000    0.821071     1.0     1.0     2.0     3.0   \n",
       "Alloy      90.0     1.500000    0.502801     1.0     1.0     1.5     2.0   \n",
       "Temp       90.0  1600.000000   82.107083  1500.0  1500.0  1600.0  1700.0   \n",
       "Response   90.0   741.777778  145.767845   289.0   698.0   767.0   824.0   \n",
       "\n",
       "             max  \n",
       "Dentist      5.0  \n",
       "Method       3.0  \n",
       "Alloy        2.0  \n",
       "Temp      1700.0  \n",
       "Response  1115.0  "
      ]
     },
     "execution_count": 403,
     "metadata": {},
     "output_type": "execute_result"
    }
   ],
   "source": [
    "df_new.describe().T"
   ]
  },
  {
   "cell_type": "code",
   "execution_count": 404,
   "id": "9f6ef11f",
   "metadata": {},
   "outputs": [
    {
     "data": {
      "text/plain": [
       "Dentist     0\n",
       "Method      0\n",
       "Alloy       0\n",
       "Temp        0\n",
       "Response    0\n",
       "dtype: int64"
      ]
     },
     "execution_count": 404,
     "metadata": {},
     "output_type": "execute_result"
    }
   ],
   "source": [
    "df_new.isnull().sum()"
   ]
  },
  {
   "cell_type": "code",
   "execution_count": 405,
   "id": "5548f76e",
   "metadata": {},
   "outputs": [
    {
     "data": {
      "text/html": [
       "<div>\n",
       "<style scoped>\n",
       "    .dataframe tbody tr th:only-of-type {\n",
       "        vertical-align: middle;\n",
       "    }\n",
       "\n",
       "    .dataframe tbody tr th {\n",
       "        vertical-align: top;\n",
       "    }\n",
       "\n",
       "    .dataframe thead th {\n",
       "        text-align: right;\n",
       "    }\n",
       "</style>\n",
       "<table border=\"1\" class=\"dataframe\">\n",
       "  <thead>\n",
       "    <tr style=\"text-align: right;\">\n",
       "      <th></th>\n",
       "      <th>Dentist</th>\n",
       "      <th>Method</th>\n",
       "      <th>Alloy</th>\n",
       "      <th>Temp</th>\n",
       "      <th>Response</th>\n",
       "    </tr>\n",
       "  </thead>\n",
       "  <tbody>\n",
       "    <tr>\n",
       "      <th>0</th>\n",
       "      <td>1.0</td>\n",
       "      <td>1.0</td>\n",
       "      <td>1.0</td>\n",
       "      <td>1500.0</td>\n",
       "      <td>813.0</td>\n",
       "    </tr>\n",
       "    <tr>\n",
       "      <th>1</th>\n",
       "      <td>1.0</td>\n",
       "      <td>1.0</td>\n",
       "      <td>1.0</td>\n",
       "      <td>1600.0</td>\n",
       "      <td>792.0</td>\n",
       "    </tr>\n",
       "  </tbody>\n",
       "</table>\n",
       "</div>"
      ],
      "text/plain": [
       "   Dentist  Method  Alloy    Temp  Response\n",
       "0      1.0     1.0    1.0  1500.0     813.0\n",
       "1      1.0     1.0    1.0  1600.0     792.0"
      ]
     },
     "execution_count": 405,
     "metadata": {},
     "output_type": "execute_result"
    }
   ],
   "source": [
    "# Alloy 1\n",
    "Alloy1 = df_new [df_new['Alloy'] == 1]\n",
    "Alloy1.head(2)"
   ]
  },
  {
   "cell_type": "code",
   "execution_count": 406,
   "id": "9fecedd7",
   "metadata": {},
   "outputs": [
    {
     "data": {
      "text/plain": [
       "(45, 5)"
      ]
     },
     "execution_count": 406,
     "metadata": {},
     "output_type": "execute_result"
    }
   ],
   "source": [
    "Alloy1.shape"
   ]
  },
  {
   "cell_type": "code",
   "execution_count": 407,
   "id": "b66b0442",
   "metadata": {},
   "outputs": [
    {
     "data": {
      "text/html": [
       "<div>\n",
       "<style scoped>\n",
       "    .dataframe tbody tr th:only-of-type {\n",
       "        vertical-align: middle;\n",
       "    }\n",
       "\n",
       "    .dataframe tbody tr th {\n",
       "        vertical-align: top;\n",
       "    }\n",
       "\n",
       "    .dataframe thead th {\n",
       "        text-align: right;\n",
       "    }\n",
       "</style>\n",
       "<table border=\"1\" class=\"dataframe\">\n",
       "  <thead>\n",
       "    <tr style=\"text-align: right;\">\n",
       "      <th></th>\n",
       "      <th>Dentist</th>\n",
       "      <th>Method</th>\n",
       "      <th>Alloy</th>\n",
       "      <th>Temp</th>\n",
       "      <th>Response</th>\n",
       "    </tr>\n",
       "  </thead>\n",
       "  <tbody>\n",
       "    <tr>\n",
       "      <th>3</th>\n",
       "      <td>1.0</td>\n",
       "      <td>1.0</td>\n",
       "      <td>2.0</td>\n",
       "      <td>1500.0</td>\n",
       "      <td>907.0</td>\n",
       "    </tr>\n",
       "    <tr>\n",
       "      <th>4</th>\n",
       "      <td>1.0</td>\n",
       "      <td>1.0</td>\n",
       "      <td>2.0</td>\n",
       "      <td>1600.0</td>\n",
       "      <td>792.0</td>\n",
       "    </tr>\n",
       "  </tbody>\n",
       "</table>\n",
       "</div>"
      ],
      "text/plain": [
       "   Dentist  Method  Alloy    Temp  Response\n",
       "3      1.0     1.0    2.0  1500.0     907.0\n",
       "4      1.0     1.0    2.0  1600.0     792.0"
      ]
     },
     "execution_count": 407,
     "metadata": {},
     "output_type": "execute_result"
    }
   ],
   "source": [
    "# Alloy 2\n",
    "Alloy2 = df_new [df_new['Alloy'] == 2]\n",
    "Alloy2.head(2)"
   ]
  },
  {
   "cell_type": "code",
   "execution_count": 408,
   "id": "47bc7e07",
   "metadata": {},
   "outputs": [
    {
     "data": {
      "text/plain": [
       "(45, 5)"
      ]
     },
     "execution_count": 408,
     "metadata": {},
     "output_type": "execute_result"
    }
   ],
   "source": [
    "Alloy2.shape"
   ]
  },
  {
   "cell_type": "markdown",
   "id": "ce8c9a46",
   "metadata": {},
   "source": [
    "## 7.1) Ans:"
   ]
  },
  {
   "cell_type": "markdown",
   "id": "295faae6",
   "metadata": {},
   "source": [
    "### i) Alloy 1:"
   ]
  },
  {
   "cell_type": "markdown",
   "id": "bf0f8519",
   "metadata": {},
   "source": [
    "Ho = There is NO difference among the dentists on the implant hardness\n",
    "\n",
    "Ha = There is difference among the dentists on the implant hardness"
   ]
  },
  {
   "cell_type": "code",
   "execution_count": 409,
   "id": "f8271dad",
   "metadata": {},
   "outputs": [],
   "source": [
    "Alloy1.Dentist = pd.Categorical(Alloy1.Dentist)"
   ]
  },
  {
   "cell_type": "code",
   "execution_count": 410,
   "id": "15ce2721",
   "metadata": {},
   "outputs": [
    {
     "data": {
      "text/plain": [
       "1.0    9\n",
       "2.0    9\n",
       "3.0    9\n",
       "4.0    9\n",
       "5.0    9\n",
       "Name: Dentist, dtype: int64"
      ]
     },
     "execution_count": 410,
     "metadata": {},
     "output_type": "execute_result"
    }
   ],
   "source": [
    "Alloy1.Dentist.value_counts()"
   ]
  },
  {
   "cell_type": "code",
   "execution_count": 411,
   "id": "027a35cc",
   "metadata": {},
   "outputs": [],
   "source": [
    "Dentist_1 = Alloy1[Alloy1['Dentist']==1]['Response']\n",
    "Dentist_2 = Alloy1[Alloy1['Dentist']==2]['Response']\n",
    "Dentist_3 = Alloy1[Alloy1['Dentist']==3]['Response']\n",
    "Dentist_4 = Alloy1[Alloy1['Dentist']==4]['Response']\n",
    "Dentist_5 = Alloy1[Alloy1['Dentist']==5]['Response']"
   ]
  },
  {
   "cell_type": "code",
   "execution_count": 412,
   "id": "7b6ebb6d",
   "metadata": {},
   "outputs": [
    {
     "name": "stdout",
     "output_type": "stream",
     "text": [
      "ShapiroResult(statistic=0.8534296751022339, pvalue=0.08127813786268234)\n"
     ]
    }
   ],
   "source": [
    "print(stats.shapiro([Dentist_5]))"
   ]
  },
  {
   "cell_type": "markdown",
   "id": "dbc37e15",
   "metadata": {},
   "source": [
    "### Normally distributed as all p values are  > 0.05"
   ]
  },
  {
   "cell_type": "code",
   "execution_count": 413,
   "id": "969e0da6",
   "metadata": {},
   "outputs": [
    {
     "name": "stdout",
     "output_type": "stream",
     "text": [
      "LeveneResult(statistic=1.3847146992797106, pvalue=0.2565537418543795)\n"
     ]
    }
   ],
   "source": [
    "print(stats.levene(Dentist_1,Dentist_2,Dentist_3,Dentist_4,Dentist_5))"
   ]
  },
  {
   "cell_type": "markdown",
   "id": "ed50bb19",
   "metadata": {},
   "source": [
    "### Variances are equal as p value is  > 0.05"
   ]
  },
  {
   "cell_type": "markdown",
   "id": "46edf460",
   "metadata": {},
   "source": [
    "## One Way Anova"
   ]
  },
  {
   "cell_type": "code",
   "execution_count": 414,
   "id": "fc957093",
   "metadata": {},
   "outputs": [
    {
     "name": "stdout",
     "output_type": "stream",
     "text": [
      "              df         sum_sq       mean_sq         F    PR(>F)\n",
      "C(Dentist)   4.0  106683.688889  26670.922222  1.977112  0.116567\n",
      "Residual    40.0  539593.555556  13489.838889       NaN       NaN\n"
     ]
    }
   ],
   "source": [
    "formula = 'Response ~ C(Dentist)'\n",
    "model = ols(formula, Alloy1).fit()\n",
    "aov_table = anova_lm(model)\n",
    "print(aov_table)"
   ]
  },
  {
   "cell_type": "code",
   "execution_count": 415,
   "id": "53fac2e4",
   "metadata": {},
   "outputs": [
    {
     "name": "stdout",
     "output_type": "stream",
     "text": [
      "Fail to reject the null hypothesis\n"
     ]
    }
   ],
   "source": [
    "if 0.116567 < 0.05:\n",
    "    print('Reject the null hypothesis')\n",
    "else:\n",
    "    print('Fail to reject the null hypothesis')"
   ]
  },
  {
   "cell_type": "markdown",
   "id": "2766b6b0",
   "metadata": {},
   "source": [
    "### As p value > α, we Fail to Reject the null hypothesis.  i.e.,  There is NO difference among the dentists on the implant hardness of Alloy 1 type."
   ]
  },
  {
   "cell_type": "markdown",
   "id": "5d484202",
   "metadata": {},
   "source": [
    "### ii) Alloy 2:"
   ]
  },
  {
   "cell_type": "markdown",
   "id": "79408293",
   "metadata": {},
   "source": [
    "Ho = There is NO difference among the dentists on the implant hardness\n",
    "\n",
    "Ha = There is difference among the dentists on the implant hardness"
   ]
  },
  {
   "cell_type": "code",
   "execution_count": 416,
   "id": "5bb988b5",
   "metadata": {},
   "outputs": [],
   "source": [
    "Alloy2.Dentist = pd.Categorical(Alloy2.Dentist)"
   ]
  },
  {
   "cell_type": "code",
   "execution_count": 417,
   "id": "b404b7df",
   "metadata": {},
   "outputs": [
    {
     "data": {
      "text/plain": [
       "1.0    9\n",
       "2.0    9\n",
       "3.0    9\n",
       "4.0    9\n",
       "5.0    9\n",
       "Name: Dentist, dtype: int64"
      ]
     },
     "execution_count": 417,
     "metadata": {},
     "output_type": "execute_result"
    }
   ],
   "source": [
    "Alloy2.Dentist.value_counts()"
   ]
  },
  {
   "cell_type": "code",
   "execution_count": 418,
   "id": "141bce4e",
   "metadata": {},
   "outputs": [],
   "source": [
    "Dentist_1 = Alloy2[Alloy2['Dentist']==1]['Response']\n",
    "Dentist_2 = Alloy2[Alloy2['Dentist']==2]['Response']\n",
    "Dentist_3 = Alloy2[Alloy2['Dentist']==3]['Response']\n",
    "Dentist_4 = Alloy2[Alloy2['Dentist']==4]['Response']\n",
    "Dentist_5 = Alloy2[Alloy2['Dentist']==5]['Response']"
   ]
  },
  {
   "cell_type": "code",
   "execution_count": 419,
   "id": "a46480d2",
   "metadata": {},
   "outputs": [
    {
     "name": "stdout",
     "output_type": "stream",
     "text": [
      "ShapiroResult(statistic=0.7613219022750854, pvalue=0.007332688197493553)\n"
     ]
    }
   ],
   "source": [
    "print(stats.shapiro([Dentist_4]))"
   ]
  },
  {
   "cell_type": "markdown",
   "id": "e5cef044",
   "metadata": {},
   "source": [
    "### Normally distributed as all p values are  > 0.05, except Dentist_4 whose p value is less when compared with Shapiro test. "
   ]
  },
  {
   "cell_type": "code",
   "execution_count": 420,
   "id": "77f7f48e",
   "metadata": {},
   "outputs": [
    {
     "name": "stdout",
     "output_type": "stream",
     "text": [
      "LeveneResult(statistic=1.4456166464566966, pvalue=0.23686777576324952)\n"
     ]
    }
   ],
   "source": [
    "print(stats.levene(Dentist_1,Dentist_2,Dentist_3,Dentist_4,Dentist_5))"
   ]
  },
  {
   "cell_type": "markdown",
   "id": "7731c7e1",
   "metadata": {},
   "source": [
    "### Variances are equal as p value is  > 0.05"
   ]
  },
  {
   "cell_type": "markdown",
   "id": "ebaf7566",
   "metadata": {},
   "source": [
    "## One Way Anova"
   ]
  },
  {
   "cell_type": "code",
   "execution_count": 421,
   "id": "f8ee04a7",
   "metadata": {},
   "outputs": [
    {
     "name": "stdout",
     "output_type": "stream",
     "text": [
      "              df        sum_sq       mean_sq         F    PR(>F)\n",
      "C(Dentist)   4.0  5.679791e+04  14199.477778  0.524835  0.718031\n",
      "Residual    40.0  1.082205e+06  27055.122222       NaN       NaN\n"
     ]
    }
   ],
   "source": [
    "formula = 'Response ~ C(Dentist)'\n",
    "model = ols(formula, Alloy2).fit()\n",
    "aov_table = anova_lm(model)\n",
    "print(aov_table)"
   ]
  },
  {
   "cell_type": "code",
   "execution_count": 422,
   "id": "34780cd5",
   "metadata": {},
   "outputs": [
    {
     "name": "stdout",
     "output_type": "stream",
     "text": [
      "Fail to reject the null hypothesis\n"
     ]
    }
   ],
   "source": [
    "if 0.718031 < 0.05:\n",
    "    print('Reject the null hypothesis')\n",
    "else:\n",
    "    print('Fail to reject the null hypothesis')"
   ]
  },
  {
   "cell_type": "markdown",
   "id": "cbc86bd2",
   "metadata": {},
   "source": [
    "### As p value > α, we Fail to Reject the null hypothesis.  i.e.,  There is NO difference among the dentists on the implant hardness of Alloy 2 type as well."
   ]
  },
  {
   "cell_type": "markdown",
   "id": "6d78cd5b",
   "metadata": {},
   "source": [
    "## 7.2) Ans:\n"
   ]
  },
  {
   "cell_type": "markdown",
   "id": "e3fd6510",
   "metadata": {},
   "source": [
    "Alloy 2: Normally distributed as all p values are  > 0.05, except Dentist_4 whose p value is less when compared with Shapiro test. "
   ]
  },
  {
   "cell_type": "markdown",
   "id": "debaa269",
   "metadata": {},
   "source": [
    "## 7.3) Ans:\n"
   ]
  },
  {
   "cell_type": "markdown",
   "id": "5ebf0e89",
   "metadata": {},
   "source": [
    "#### One Way Anova to check whether implant hardness depends on dentist."
   ]
  },
  {
   "cell_type": "code",
   "execution_count": 423,
   "id": "665e765a",
   "metadata": {},
   "outputs": [
    {
     "name": "stdout",
     "output_type": "stream",
     "text": [
      "              df        sum_sq       mean_sq         F    PR(>F)\n",
      "C(Dentist)   4.0  1.577946e+05  39448.638889  1.934537  0.112066\n",
      "Residual    85.0  1.733301e+06  20391.776471       NaN       NaN\n"
     ]
    }
   ],
   "source": [
    "formula = 'Response ~ C(Dentist)'\n",
    "model = ols(formula, df_new).fit()\n",
    "aov_table = anova_lm(model)\n",
    "print(aov_table)"
   ]
  },
  {
   "cell_type": "markdown",
   "id": "19214020",
   "metadata": {},
   "source": [
    "### We are about 89% sure that the implant hardness depends on dentists."
   ]
  },
  {
   "cell_type": "markdown",
   "id": "ce2a1eef",
   "metadata": {},
   "source": [
    "### i) Alloy 1:"
   ]
  },
  {
   "cell_type": "markdown",
   "id": "343166fc",
   "metadata": {},
   "source": [
    "Ho = implant hardness depends on dentists\n",
    "\n",
    "Ha = implant hardness Does NOT depend on dentists"
   ]
  },
  {
   "cell_type": "markdown",
   "id": "9045fa33",
   "metadata": {},
   "source": [
    "## One Way Anova"
   ]
  },
  {
   "cell_type": "code",
   "execution_count": 424,
   "id": "9f081b43",
   "metadata": {},
   "outputs": [],
   "source": [
    "Dentist_1 = Alloy1[Alloy1['Dentist']==1]['Response']\n",
    "Dentist_2 = Alloy1[Alloy1['Dentist']==2]['Response']\n",
    "Dentist_3 = Alloy1[Alloy1['Dentist']==3]['Response']\n",
    "Dentist_4 = Alloy1[Alloy1['Dentist']==4]['Response']\n",
    "Dentist_5 = Alloy1[Alloy1['Dentist']==5]['Response']"
   ]
  },
  {
   "cell_type": "code",
   "execution_count": 425,
   "id": "b04f926c",
   "metadata": {},
   "outputs": [
    {
     "name": "stdout",
     "output_type": "stream",
     "text": [
      "ShapiroResult(statistic=0.8534296751022339, pvalue=0.08127813786268234)\n"
     ]
    }
   ],
   "source": [
    "print(stats.shapiro([Dentist_5]))"
   ]
  },
  {
   "cell_type": "code",
   "execution_count": 426,
   "id": "96e320fc",
   "metadata": {},
   "outputs": [
    {
     "name": "stdout",
     "output_type": "stream",
     "text": [
      "LeveneResult(statistic=1.3847146992797106, pvalue=0.2565537418543795)\n"
     ]
    }
   ],
   "source": [
    "print(stats.levene(Dentist_1,Dentist_2,Dentist_3,Dentist_4,Dentist_5))"
   ]
  },
  {
   "cell_type": "code",
   "execution_count": 427,
   "id": "13afb809",
   "metadata": {},
   "outputs": [
    {
     "name": "stdout",
     "output_type": "stream",
     "text": [
      "              df         sum_sq       mean_sq         F    PR(>F)\n",
      "C(Dentist)   4.0  106683.688889  26670.922222  1.977112  0.116567\n",
      "Residual    40.0  539593.555556  13489.838889       NaN       NaN\n"
     ]
    }
   ],
   "source": [
    "formula = 'Response ~ C(Dentist)'\n",
    "model = ols(formula, Alloy1).fit()\n",
    "aov_table = anova_lm(model)\n",
    "print(aov_table)"
   ]
  },
  {
   "cell_type": "code",
   "execution_count": 428,
   "id": "5788a9ce",
   "metadata": {},
   "outputs": [
    {
     "name": "stdout",
     "output_type": "stream",
     "text": [
      "Fail to reject the null hypothesis\n"
     ]
    }
   ],
   "source": [
    "if 0.116567 < 0.05:\n",
    "    print('Reject the null hypothesis')\n",
    "else:\n",
    "    print('Fail to reject the null hypothesis')"
   ]
  },
  {
   "cell_type": "markdown",
   "id": "1510748f",
   "metadata": {},
   "source": [
    "### As p value > α, we Fail to Reject the null hypothesis.  i.e.,  implant hardness depends on dentists of Alloy 1 type."
   ]
  },
  {
   "cell_type": "code",
   "execution_count": 429,
   "id": "93348763",
   "metadata": {},
   "outputs": [
    {
     "name": "stdout",
     "output_type": "stream",
     "text": [
      "LeveneResult(statistic=1.0083276455136205, pvalue=0.3302493986457353)\n",
      "LeveneResult(statistic=0.2594088332769145, pvalue=0.6174788111170947)\n",
      "LeveneResult(statistic=3.5685575718334817, pvalue=0.07714709892915635)\n",
      "LeveneResult(statistic=2.853155520544538, pvalue=0.11058377527264443)\n",
      "LeveneResult(statistic=0.21272464820239148, pvalue=0.6508480492345458)\n",
      "LeveneResult(statistic=4.42770301932119, pvalue=0.051524395988049164)\n"
     ]
    }
   ],
   "source": [
    "# Homogeneous\n",
    "print(levene(Dentist_1, Dentist_2, center = 'mean', proportiontocut = 0.05))\n",
    "print(levene(Dentist_2, Dentist_3, center = 'mean', proportiontocut = 0.05))\n",
    "print(levene(Dentist_3, Dentist_4, center = 'mean', proportiontocut = 0.05))\n",
    "print(levene(Dentist_1, Dentist_4, center = 'mean', proportiontocut = 0.05))\n",
    "print(levene(Dentist_1, Dentist_3, center = 'mean', proportiontocut = 0.05))\n",
    "print(levene(Dentist_2, Dentist_4, center = 'mean', proportiontocut = 0.05))"
   ]
  },
  {
   "cell_type": "markdown",
   "id": "c5950a52",
   "metadata": {},
   "source": [
    "## All of the p values are above 0.05, hence, satisfies homogeneity."
   ]
  },
  {
   "cell_type": "code",
   "execution_count": 430,
   "id": "1104af53",
   "metadata": {},
   "outputs": [
    {
     "data": {
      "image/png": "[encoded data removed]",
      "text/plain": [
       "<Figure size 640x480 with 1 Axes>"
      ]
     },
     "metadata": {},
     "output_type": "display_data"
    }
   ],
   "source": [
    "sns.pointplot(x='Dentist', y='Response', data=Alloy1, ci=None);"
   ]
  },
  {
   "cell_type": "markdown",
   "id": "4f028c1b",
   "metadata": {},
   "source": [
    "### Insights:\n",
    "\n",
    "\n",
    "**Dentist 2 has the highest response rate when compared with other dentists.**\n",
    "\n",
    "**Dentist 5 has least response rate.**\n",
    "\n",
    "**Dentist 1 is the second highest when compared to response rate.**\n",
    "\n",
    "**There is a decline in response rate from Dentist 3 onwards.**\n"
   ]
  },
  {
   "cell_type": "markdown",
   "id": "f745fc88",
   "metadata": {},
   "source": [
    "### ii) Alloy 2:"
   ]
  },
  {
   "cell_type": "markdown",
   "id": "32b02e22",
   "metadata": {},
   "source": [
    "Ho = implant hardness depends on dentists\n",
    "\n",
    "Ha = implant hardness Does NOT depend on dentists"
   ]
  },
  {
   "cell_type": "markdown",
   "id": "117e2f08",
   "metadata": {},
   "source": [
    "## One Way Anova"
   ]
  },
  {
   "cell_type": "code",
   "execution_count": 431,
   "id": "8746446b",
   "metadata": {},
   "outputs": [],
   "source": [
    "Dentist_1 = Alloy2[Alloy2['Dentist']==1]['Response']\n",
    "Dentist_2 = Alloy2[Alloy2['Dentist']==2]['Response']\n",
    "Dentist_3 = Alloy2[Alloy2['Dentist']==3]['Response']\n",
    "Dentist_4 = Alloy2[Alloy2['Dentist']==4]['Response']\n",
    "Dentist_5 = Alloy2[Alloy2['Dentist']==5]['Response']"
   ]
  },
  {
   "cell_type": "code",
   "execution_count": 432,
   "id": "44227ff2",
   "metadata": {},
   "outputs": [
    {
     "name": "stdout",
     "output_type": "stream",
     "text": [
      "ShapiroResult(statistic=0.7613219022750854, pvalue=0.007332688197493553)\n"
     ]
    }
   ],
   "source": [
    "print(stats.shapiro([Dentist_4]))"
   ]
  },
  {
   "cell_type": "code",
   "execution_count": 433,
   "id": "62729be2",
   "metadata": {},
   "outputs": [
    {
     "name": "stdout",
     "output_type": "stream",
     "text": [
      "LeveneResult(statistic=1.4456166464566966, pvalue=0.23686777576324952)\n"
     ]
    }
   ],
   "source": [
    "print(stats.levene(Dentist_1,Dentist_2,Dentist_3,Dentist_4,Dentist_5))"
   ]
  },
  {
   "cell_type": "code",
   "execution_count": 434,
   "id": "a51ae6db",
   "metadata": {},
   "outputs": [
    {
     "name": "stdout",
     "output_type": "stream",
     "text": [
      "              df        sum_sq       mean_sq         F    PR(>F)\n",
      "C(Dentist)   4.0  5.679791e+04  14199.477778  0.524835  0.718031\n",
      "Residual    40.0  1.082205e+06  27055.122222       NaN       NaN\n"
     ]
    }
   ],
   "source": [
    "formula = 'Response ~ C(Dentist)'\n",
    "model = ols(formula, Alloy2).fit()\n",
    "aov_table = anova_lm(model)\n",
    "print(aov_table)"
   ]
  },
  {
   "cell_type": "code",
   "execution_count": 435,
   "id": "5037c4d8",
   "metadata": {},
   "outputs": [
    {
     "name": "stdout",
     "output_type": "stream",
     "text": [
      "Fail to reject the null hypothesis\n"
     ]
    }
   ],
   "source": [
    "if 0.718031 < 0.05:\n",
    "    print('Reject the null hypothesis')\n",
    "else:\n",
    "    print('Fail to reject the null hypothesis')"
   ]
  },
  {
   "cell_type": "markdown",
   "id": "f8a9e82d",
   "metadata": {},
   "source": [
    "### As p value > α, we Fail to Reject the null hypothesis.  i.e.,  implant hardness depends on dentists of Alloy 2 type."
   ]
  },
  {
   "cell_type": "code",
   "execution_count": 436,
   "id": "dfc475a6",
   "metadata": {},
   "outputs": [
    {
     "name": "stdout",
     "output_type": "stream",
     "text": [
      "LeveneResult(statistic=0.8354199430344812, pvalue=0.374278746615896)\n",
      "LeveneResult(statistic=1.8357379844263988, pvalue=0.1942740761463763)\n",
      "LeveneResult(statistic=2.999556056709494, pvalue=0.1025181320923458)\n",
      "LeveneResult(statistic=0.04122461805668294, pvalue=0.8416645477879323)\n",
      "LeveneResult(statistic=2.391463988812606, pvalue=0.14154839434757432)\n",
      "LeveneResult(statistic=1.2753897854782572, pvalue=0.2754058384083719)\n"
     ]
    }
   ],
   "source": [
    "# Homogeneous\n",
    "print(levene(Dentist_1, Dentist_2, center = 'mean', proportiontocut = 0.05))\n",
    "print(levene(Dentist_2, Dentist_3, center = 'mean', proportiontocut = 0.05))\n",
    "print(levene(Dentist_3, Dentist_4, center = 'mean', proportiontocut = 0.05))\n",
    "print(levene(Dentist_1, Dentist_4, center = 'mean', proportiontocut = 0.05))\n",
    "print(levene(Dentist_1, Dentist_3, center = 'mean', proportiontocut = 0.05))\n",
    "print(levene(Dentist_2, Dentist_4, center = 'mean', proportiontocut = 0.05))"
   ]
  },
  {
   "cell_type": "markdown",
   "id": "9877f437",
   "metadata": {},
   "source": [
    "## All of the p values are above 0.05, hence, satisfies homogeneity.\n"
   ]
  },
  {
   "cell_type": "code",
   "execution_count": 437,
   "id": "d250a382",
   "metadata": {},
   "outputs": [
    {
     "data": {
      "image/png": "[encoded data removed]",
      "text/plain": [
       "<Figure size 640x480 with 1 Axes>"
      ]
     },
     "metadata": {},
     "output_type": "display_data"
    }
   ],
   "source": [
    "sns.pointplot(x='Dentist', y='Response', data=Alloy2, ci=None);"
   ]
  },
  {
   "cell_type": "markdown",
   "id": "bb65315f",
   "metadata": {},
   "source": [
    "### Insights:\n",
    "\n",
    "### Alloy 2\n",
    "\n",
    "**Dentist 1 has the highest response rate when compared with other dentists.**\n",
    "\n",
    "**Dentist 5 has least response rate.**\n",
    "\n",
    "**There is a decline in response rate from Dentist 1 to 5.**\n"
   ]
  },
  {
   "cell_type": "markdown",
   "id": "6daa150e",
   "metadata": {},
   "source": [
    "## CONCLUSION: DENTIST_3 and DENTIST_ 4 of ALLOY 1 type is a pair that differs."
   ]
  },
  {
   "cell_type": "markdown",
   "id": "7b1f5349",
   "metadata": {},
   "source": [
    "## 7.4) Ans:\n"
   ]
  },
  {
   "cell_type": "markdown",
   "id": "511581a4",
   "metadata": {},
   "source": [
    "### i) Alloy 1:"
   ]
  },
  {
   "cell_type": "markdown",
   "id": "cf83caf3",
   "metadata": {},
   "source": [
    "#### methods\n",
    "\n",
    "Ho = There is NO difference among the methods on the implant hardness\n",
    "\n",
    "Ha = There is difference among the methods on the implant hardness"
   ]
  },
  {
   "cell_type": "code",
   "execution_count": 438,
   "id": "674b70f0",
   "metadata": {},
   "outputs": [],
   "source": [
    "Alloy1.Method = pd.Categorical(Alloy1.Method)"
   ]
  },
  {
   "cell_type": "code",
   "execution_count": 439,
   "id": "ae38fb1a",
   "metadata": {},
   "outputs": [
    {
     "data": {
      "text/plain": [
       "1.0    15\n",
       "2.0    15\n",
       "3.0    15\n",
       "Name: Method, dtype: int64"
      ]
     },
     "execution_count": 439,
     "metadata": {},
     "output_type": "execute_result"
    }
   ],
   "source": [
    "Alloy1.Method.value_counts()"
   ]
  },
  {
   "cell_type": "code",
   "execution_count": 440,
   "id": "2220b4bf",
   "metadata": {},
   "outputs": [
    {
     "name": "stdout",
     "output_type": "stream",
     "text": [
      "<class 'pandas.core.frame.DataFrame'>\n",
      "Int64Index: 45 entries, 0 to 86\n",
      "Data columns (total 5 columns):\n",
      " #   Column    Non-Null Count  Dtype   \n",
      "---  ------    --------------  -----   \n",
      " 0   Dentist   45 non-null     category\n",
      " 1   Method    45 non-null     category\n",
      " 2   Alloy     45 non-null     float64 \n",
      " 3   Temp      45 non-null     float64 \n",
      " 4   Response  45 non-null     float64 \n",
      "dtypes: category(2), float64(3)\n",
      "memory usage: 1.8 KB\n"
     ]
    }
   ],
   "source": [
    "Alloy1.info()"
   ]
  },
  {
   "cell_type": "code",
   "execution_count": 441,
   "id": "29f6b396",
   "metadata": {},
   "outputs": [],
   "source": [
    "Method_1 = Alloy1[Alloy1['Method']==1]['Response']\n",
    "Method_2 = Alloy1[Alloy1['Method']==2]['Response']\n",
    "Method_3 = Alloy1[Alloy1['Method']==3]['Response']"
   ]
  },
  {
   "cell_type": "code",
   "execution_count": 442,
   "id": "732acd69",
   "metadata": {},
   "outputs": [
    {
     "name": "stdout",
     "output_type": "stream",
     "text": [
      "ShapiroResult(statistic=0.9183822870254517, pvalue=0.18198540806770325)\n",
      "ShapiroResult(statistic=0.9732585549354553, pvalue=0.9030335545539856)\n",
      "ShapiroResult(statistic=0.9114548563957214, pvalue=0.14254699647426605)\n"
     ]
    }
   ],
   "source": [
    "print(stats.shapiro([Method_1]))\n",
    "print(stats.shapiro([Method_2]))\n",
    "print(stats.shapiro([Method_3]))"
   ]
  },
  {
   "cell_type": "markdown",
   "id": "52a7facd",
   "metadata": {},
   "source": [
    "### Normally distributed as all p values are  > 0.05"
   ]
  },
  {
   "cell_type": "code",
   "execution_count": 443,
   "id": "36e82e6f",
   "metadata": {},
   "outputs": [
    {
     "name": "stdout",
     "output_type": "stream",
     "text": [
      "LeveneResult(statistic=6.52140454403598, pvalue=0.0034160381460233975)\n"
     ]
    }
   ],
   "source": [
    "print(stats.levene(Method_1,Method_2,Method_3))"
   ]
  },
  {
   "cell_type": "markdown",
   "id": "3cb8300b",
   "metadata": {},
   "source": [
    "### There is a significant difference between the variances(pvalue < 0.05)"
   ]
  },
  {
   "cell_type": "code",
   "execution_count": 444,
   "id": "9544c291",
   "metadata": {},
   "outputs": [
    {
     "name": "stdout",
     "output_type": "stream",
     "text": [
      "LeveneResult(statistic=0.7823701778383629, pvalue=0.38394989601434304)\n",
      "LeveneResult(statistic=12.595602614038445, pvalue=0.0013874210318934536)\n",
      "LeveneResult(statistic=17.885496661260618, pvalue=0.00022668629079979953)\n"
     ]
    }
   ],
   "source": [
    "# Homogeneity\n",
    "print(levene(Method_1, Method_2, center = 'mean', proportiontocut = 0.05))\n",
    "print(levene(Method_2, Method_3, center = 'mean', proportiontocut = 0.05))\n",
    "print(levene(Method_1, Method_3, center = 'mean', proportiontocut = 0.05))"
   ]
  },
  {
   "cell_type": "markdown",
   "id": "0380fb5e",
   "metadata": {},
   "source": [
    "## Pairs that differ are 'Method_2 and Method_3' & 'Method_1 and Method_3' of ALLOY 1 type."
   ]
  },
  {
   "cell_type": "code",
   "execution_count": 445,
   "id": "f0b46733",
   "metadata": {},
   "outputs": [
    {
     "name": "stdout",
     "output_type": "stream",
     "text": [
      "             df         sum_sq       mean_sq         F    PR(>F)\n",
      "C(Method)   2.0  148472.177778  74236.088889  6.263327  0.004163\n",
      "Residual   42.0  497805.066667  11852.501587       NaN       NaN\n"
     ]
    }
   ],
   "source": [
    "# One Way Anova\n",
    "formula = 'Response ~ C(Method)'\n",
    "model = ols(formula, Alloy1).fit()\n",
    "aov_table = anova_lm(model)\n",
    "print(aov_table)"
   ]
  },
  {
   "cell_type": "markdown",
   "id": "4d263c2d",
   "metadata": {},
   "source": [
    "### As p value < α, we can Reject the null hypothesis.  i.e.,  There is difference among the methods on the implant hardnessof Alloy 1 type."
   ]
  },
  {
   "cell_type": "markdown",
   "id": "1756ca48",
   "metadata": {},
   "source": [
    "### ii) Alloy 2:"
   ]
  },
  {
   "cell_type": "markdown",
   "id": "6eacdd8f",
   "metadata": {},
   "source": [
    "#### methods\n",
    "\n",
    "Ho = There is NO difference among the methods on the implant hardness\n",
    "\n",
    "Ha = There is difference among the methods on the implant hardness"
   ]
  },
  {
   "cell_type": "code",
   "execution_count": 446,
   "id": "f9455726",
   "metadata": {},
   "outputs": [],
   "source": [
    "Alloy2.Method = pd.Categorical(Alloy2.Method)"
   ]
  },
  {
   "cell_type": "code",
   "execution_count": 447,
   "id": "2a89a0a0",
   "metadata": {},
   "outputs": [
    {
     "data": {
      "text/plain": [
       "1.0    15\n",
       "2.0    15\n",
       "3.0    15\n",
       "Name: Method, dtype: int64"
      ]
     },
     "execution_count": 447,
     "metadata": {},
     "output_type": "execute_result"
    }
   ],
   "source": [
    "Alloy2.Method.value_counts()"
   ]
  },
  {
   "cell_type": "code",
   "execution_count": 448,
   "id": "9496a226",
   "metadata": {},
   "outputs": [
    {
     "name": "stdout",
     "output_type": "stream",
     "text": [
      "<class 'pandas.core.frame.DataFrame'>\n",
      "Int64Index: 45 entries, 3 to 89\n",
      "Data columns (total 5 columns):\n",
      " #   Column    Non-Null Count  Dtype   \n",
      "---  ------    --------------  -----   \n",
      " 0   Dentist   45 non-null     category\n",
      " 1   Method    45 non-null     category\n",
      " 2   Alloy     45 non-null     float64 \n",
      " 3   Temp      45 non-null     float64 \n",
      " 4   Response  45 non-null     float64 \n",
      "dtypes: category(2), float64(3)\n",
      "memory usage: 1.8 KB\n"
     ]
    }
   ],
   "source": [
    "Alloy2.info()"
   ]
  },
  {
   "cell_type": "code",
   "execution_count": 449,
   "id": "afd70766",
   "metadata": {},
   "outputs": [],
   "source": [
    "Method_1 = Alloy2[Alloy2['Method']==1]['Response']\n",
    "Method_2 = Alloy2[Alloy2['Method']==2]['Response']\n",
    "Method_3 = Alloy2[Alloy2['Method']==3]['Response']"
   ]
  },
  {
   "cell_type": "code",
   "execution_count": 450,
   "id": "b456bc60",
   "metadata": {},
   "outputs": [
    {
     "name": "stdout",
     "output_type": "stream",
     "text": [
      "ShapiroResult(statistic=0.963810384273529, pvalue=0.7582374811172485)\n",
      "ShapiroResult(statistic=0.755793035030365, pvalue=0.001051110913977027)\n",
      "ShapiroResult(statistic=0.9021322131156921, pvalue=0.1025901660323143)\n"
     ]
    }
   ],
   "source": [
    "print(stats.shapiro([Method_1]))\n",
    "print(stats.shapiro([Method_2]))\n",
    "print(stats.shapiro([Method_3]))"
   ]
  },
  {
   "cell_type": "markdown",
   "id": "0a4d58ef",
   "metadata": {},
   "source": [
    "### Normally distributed as all p value is  > 0.05"
   ]
  },
  {
   "cell_type": "code",
   "execution_count": 451,
   "id": "96aab30f",
   "metadata": {},
   "outputs": [
    {
     "name": "stdout",
     "output_type": "stream",
     "text": [
      "LeveneResult(statistic=3.349707184158617, pvalue=0.04469269939158668)\n"
     ]
    }
   ],
   "source": [
    "print(stats.levene(Method_1,Method_2,Method_3))"
   ]
  },
  {
   "cell_type": "markdown",
   "id": "139a5e78",
   "metadata": {},
   "source": [
    "### There is a significant difference between the variances(pvalue < 0.05)"
   ]
  },
  {
   "cell_type": "code",
   "execution_count": 452,
   "id": "1c52b2c9",
   "metadata": {},
   "outputs": [
    {
     "name": "stdout",
     "output_type": "stream",
     "text": [
      "LeveneResult(statistic=0.6168634146720455, pvalue=0.4388110515152157)\n",
      "LeveneResult(statistic=9.16579990950505, pvalue=0.005247242498057698)\n",
      "LeveneResult(statistic=6.006658653135694, pvalue=0.020756407996500033)\n"
     ]
    }
   ],
   "source": [
    "# Homogeneity\n",
    "print(levene(Method_1, Method_2, center = 'mean', proportiontocut = 0.05))\n",
    "print(levene(Method_2, Method_3, center = 'mean', proportiontocut = 0.05))\n",
    "print(levene(Method_1, Method_3, center = 'mean', proportiontocut = 0.05))"
   ]
  },
  {
   "cell_type": "markdown",
   "id": "5a17af47",
   "metadata": {},
   "source": [
    "## Pairs that differ are 'Method_2 and Method_3' & 'Method_1 and Method_3' of ALLOY 2 type."
   ]
  },
  {
   "cell_type": "code",
   "execution_count": 453,
   "id": "2ea45d9c",
   "metadata": {},
   "outputs": [
    {
     "name": "stdout",
     "output_type": "stream",
     "text": [
      "             df    sum_sq        mean_sq        F    PR(>F)\n",
      "C(Method)   2.0  499640.4  249820.200000  16.4108  0.000005\n",
      "Residual   42.0  639362.4   15222.914286      NaN       NaN\n"
     ]
    }
   ],
   "source": [
    "# One Way Anova\n",
    "formula = 'Response ~ C(Method)'\n",
    "model = ols(formula, Alloy2).fit()\n",
    "aov_table = anova_lm(model)\n",
    "print(aov_table)"
   ]
  },
  {
   "cell_type": "markdown",
   "id": "733ff864",
   "metadata": {},
   "source": [
    "### As p value < α, we can Reject the null hypothesis.  i.e.,  There is difference among the methods on the implant hardnessof Alloy 2 type."
   ]
  },
  {
   "cell_type": "markdown",
   "id": "5f22581b",
   "metadata": {},
   "source": [
    "## 7.5) Ans:"
   ]
  },
  {
   "cell_type": "markdown",
   "id": "9e4b1be8",
   "metadata": {},
   "source": [
    "### i) Alloy 1:"
   ]
  },
  {
   "cell_type": "markdown",
   "id": "11ed137a",
   "metadata": {},
   "source": [
    "#### temperature\n",
    "\n",
    "Ho = There is NO difference among the temperature level on the implant hardness\n",
    "\n",
    "Ha = There is difference among the temperature level on the implant hardness"
   ]
  },
  {
   "cell_type": "code",
   "execution_count": 454,
   "id": "616942f9",
   "metadata": {},
   "outputs": [],
   "source": [
    "Alloy1.Temp = pd.Categorical(Alloy1.Temp)"
   ]
  },
  {
   "cell_type": "code",
   "execution_count": 455,
   "id": "cbd79ec5",
   "metadata": {},
   "outputs": [
    {
     "data": {
      "text/plain": [
       "1500.0    15\n",
       "1600.0    15\n",
       "1700.0    15\n",
       "Name: Temp, dtype: int64"
      ]
     },
     "execution_count": 455,
     "metadata": {},
     "output_type": "execute_result"
    }
   ],
   "source": [
    "Alloy1.Temp.value_counts()"
   ]
  },
  {
   "cell_type": "code",
   "execution_count": 456,
   "id": "866bf7b9",
   "metadata": {},
   "outputs": [
    {
     "name": "stdout",
     "output_type": "stream",
     "text": [
      "<class 'pandas.core.frame.DataFrame'>\n",
      "Int64Index: 45 entries, 0 to 86\n",
      "Data columns (total 5 columns):\n",
      " #   Column    Non-Null Count  Dtype   \n",
      "---  ------    --------------  -----   \n",
      " 0   Dentist   45 non-null     category\n",
      " 1   Method    45 non-null     category\n",
      " 2   Alloy     45 non-null     float64 \n",
      " 3   Temp      45 non-null     category\n",
      " 4   Response  45 non-null     float64 \n",
      "dtypes: category(3), float64(2)\n",
      "memory usage: 1.7 KB\n"
     ]
    }
   ],
   "source": [
    "Alloy1.info()"
   ]
  },
  {
   "cell_type": "code",
   "execution_count": 457,
   "id": "e72bb7b7",
   "metadata": {},
   "outputs": [],
   "source": [
    "Temp_1500 = Alloy1[Alloy1['Temp']==1500]['Response']\n",
    "Temp_1600 = Alloy1[Alloy1['Temp']==1600]['Response']\n",
    "Temp_1700 = Alloy1[Alloy1['Temp']==1700]['Response']"
   ]
  },
  {
   "cell_type": "code",
   "execution_count": 458,
   "id": "33233e20",
   "metadata": {},
   "outputs": [
    {
     "name": "stdout",
     "output_type": "stream",
     "text": [
      "ShapiroResult(statistic=0.7600352764129639, pvalue=0.001179991289973259)\n",
      "ShapiroResult(statistic=0.9596877098083496, pvalue=0.6869674324989319)\n",
      "ShapiroResult(statistic=0.7676342129707336, pvalue=0.0014549640472978354)\n"
     ]
    }
   ],
   "source": [
    "print(stats.shapiro([Temp_1500]))\n",
    "print(stats.shapiro([Temp_1600]))\n",
    "print(stats.shapiro([Temp_1700]))"
   ]
  },
  {
   "cell_type": "markdown",
   "id": "a6f39de1",
   "metadata": {},
   "source": [
    "### Only Temp_1600 is normally distributed as p value is  > 0.05, Temp_1500 and Temp_1700 are not normally distributed as p value is < 0.05."
   ]
  },
  {
   "cell_type": "code",
   "execution_count": 459,
   "id": "66f343ba",
   "metadata": {},
   "outputs": [
    {
     "name": "stdout",
     "output_type": "stream",
     "text": [
      "LeveneResult(statistic=0.26470963952464094, pvalue=0.7686994896007937)\n"
     ]
    }
   ],
   "source": [
    "print(stats.levene(Temp_1500,Temp_1600,Temp_1700))"
   ]
  },
  {
   "cell_type": "markdown",
   "id": "2bd11fd1",
   "metadata": {},
   "source": [
    "### Variances are equal as p value is  > 0.05"
   ]
  },
  {
   "cell_type": "code",
   "execution_count": 460,
   "id": "c45ab3d6",
   "metadata": {},
   "outputs": [
    {
     "name": "stdout",
     "output_type": "stream",
     "text": [
      "LeveneResult(statistic=0.2599377859754758, pvalue=0.6141583364224963)\n",
      "LeveneResult(statistic=1.6224299641857027, pvalue=0.21322557342129073)\n",
      "LeveneResult(statistic=0.5848190145656945, pvalue=0.4508271561644537)\n"
     ]
    }
   ],
   "source": [
    "# Homogeneity\n",
    "print(levene(Temp_1500, Temp_1600, center = 'mean', proportiontocut = 0.05))\n",
    "print(levene(Temp_1600, Temp_1700, center = 'mean', proportiontocut = 0.05))\n",
    "print(levene(Temp_1500, Temp_1700, center = 'mean', proportiontocut = 0.05))"
   ]
  },
  {
   "cell_type": "markdown",
   "id": "c195e137",
   "metadata": {},
   "source": [
    "## Temperatures of ALLOY 1 type don't differ, as all p values are > 0.05."
   ]
  },
  {
   "cell_type": "code",
   "execution_count": 461,
   "id": "a4e91f5d",
   "metadata": {},
   "outputs": [
    {
     "name": "stdout",
     "output_type": "stream",
     "text": [
      "            df         sum_sq       mean_sq         F    PR(>F)\n",
      "C(Temp)    2.0   10154.444444   5077.222222  0.335224  0.717074\n",
      "Residual  42.0  636122.800000  15145.780952       NaN       NaN\n"
     ]
    }
   ],
   "source": [
    "# One Way Anova\n",
    "formula = 'Response ~ C(Temp)'\n",
    "model = ols(formula, Alloy1).fit()\n",
    "aov_table = anova_lm(model)\n",
    "print(aov_table)"
   ]
  },
  {
   "cell_type": "markdown",
   "id": "e87e561c",
   "metadata": {},
   "source": [
    "### As p value > α, we Fail to Reject the null hypothesis.  i.e.,  There is NO difference among the temperature level on the implant hardness of Alloy 1 type."
   ]
  },
  {
   "cell_type": "markdown",
   "id": "ff559fb1",
   "metadata": {},
   "source": [
    "### ii) Alloy 2:"
   ]
  },
  {
   "cell_type": "markdown",
   "id": "1012b7ad",
   "metadata": {},
   "source": [
    "#### temperature\n",
    "\n",
    "Ho = There is NO difference among the temperature level on the implant hardness\n",
    "\n",
    "Ha = There is difference among the temperature level on the implant hardness"
   ]
  },
  {
   "cell_type": "code",
   "execution_count": 462,
   "id": "9a997e5b",
   "metadata": {},
   "outputs": [],
   "source": [
    "Alloy2.Temp = pd.Categorical(Alloy2.Temp)"
   ]
  },
  {
   "cell_type": "code",
   "execution_count": 463,
   "id": "5e4e9936",
   "metadata": {},
   "outputs": [
    {
     "data": {
      "text/plain": [
       "1500.0    15\n",
       "1600.0    15\n",
       "1700.0    15\n",
       "Name: Temp, dtype: int64"
      ]
     },
     "execution_count": 463,
     "metadata": {},
     "output_type": "execute_result"
    }
   ],
   "source": [
    "Alloy2.Temp.value_counts()"
   ]
  },
  {
   "cell_type": "code",
   "execution_count": 464,
   "id": "cfb3f6e6",
   "metadata": {},
   "outputs": [
    {
     "name": "stdout",
     "output_type": "stream",
     "text": [
      "<class 'pandas.core.frame.DataFrame'>\n",
      "Int64Index: 45 entries, 3 to 89\n",
      "Data columns (total 5 columns):\n",
      " #   Column    Non-Null Count  Dtype   \n",
      "---  ------    --------------  -----   \n",
      " 0   Dentist   45 non-null     category\n",
      " 1   Method    45 non-null     category\n",
      " 2   Alloy     45 non-null     float64 \n",
      " 3   Temp      45 non-null     category\n",
      " 4   Response  45 non-null     float64 \n",
      "dtypes: category(3), float64(2)\n",
      "memory usage: 1.7 KB\n"
     ]
    }
   ],
   "source": [
    "Alloy2.info()"
   ]
  },
  {
   "cell_type": "code",
   "execution_count": 465,
   "id": "57df78f4",
   "metadata": {},
   "outputs": [],
   "source": [
    "Temp_1500 = Alloy2[Alloy2['Temp']==1500]['Response']\n",
    "Temp_1600 = Alloy2[Alloy2['Temp']==1600]['Response']\n",
    "Temp_1700 = Alloy2[Alloy2['Temp']==1700]['Response']"
   ]
  },
  {
   "cell_type": "code",
   "execution_count": 466,
   "id": "a5910fa4",
   "metadata": {},
   "outputs": [
    {
     "name": "stdout",
     "output_type": "stream",
     "text": [
      "ShapiroResult(statistic=0.9502270817756653, pvalue=0.5280351042747498)\n",
      "ShapiroResult(statistic=0.8828278183937073, pvalue=0.052296675741672516)\n",
      "ShapiroResult(statistic=0.8028314709663391, pvalue=0.003997983876615763)\n"
     ]
    }
   ],
   "source": [
    "print(stats.shapiro([Temp_1500]))\n",
    "print(stats.shapiro([Temp_1600]))\n",
    "print(stats.shapiro([Temp_1700]))"
   ]
  },
  {
   "cell_type": "markdown",
   "id": "5e3dc81c",
   "metadata": {},
   "source": [
    "### Temp_1500 and Temp_1600 is normally distributed as p value is  > 0.05, Temp_1700 is not normally distributed as p value is < 0.05."
   ]
  },
  {
   "cell_type": "code",
   "execution_count": 467,
   "id": "ba0a7d03",
   "metadata": {},
   "outputs": [
    {
     "name": "stdout",
     "output_type": "stream",
     "text": [
      "LeveneResult(statistic=0.6697956965974987, pvalue=0.5171946653062957)\n"
     ]
    }
   ],
   "source": [
    "print(stats.levene(Temp_1500,Temp_1600,Temp_1700))"
   ]
  },
  {
   "cell_type": "markdown",
   "id": "5a178e37",
   "metadata": {},
   "source": [
    "### Variances are equal as p value is  > 0.05"
   ]
  },
  {
   "cell_type": "code",
   "execution_count": 468,
   "id": "44a4df8e",
   "metadata": {},
   "outputs": [
    {
     "name": "stdout",
     "output_type": "stream",
     "text": [
      "LeveneResult(statistic=0.029525730889396144, pvalue=0.8648066537840027)\n",
      "LeveneResult(statistic=1.1472667989007956, pvalue=0.2932682041841355)\n",
      "LeveneResult(statistic=1.8155736271464809, pvalue=0.18864421428675962)\n"
     ]
    }
   ],
   "source": [
    "# Homogeneity\n",
    "print(levene(Temp_1500, Temp_1600, center = 'mean', proportiontocut = 0.05))\n",
    "print(levene(Temp_1600, Temp_1700, center = 'mean', proportiontocut = 0.05))\n",
    "print(levene(Temp_1500, Temp_1700, center = 'mean', proportiontocut = 0.05))"
   ]
  },
  {
   "cell_type": "markdown",
   "id": "a104d7c4",
   "metadata": {},
   "source": [
    "## Temperatures of ALLOY 2 type don't differ, as all p values are > 0.05."
   ]
  },
  {
   "cell_type": "code",
   "execution_count": 469,
   "id": "94b73895",
   "metadata": {},
   "outputs": [
    {
     "name": "stdout",
     "output_type": "stream",
     "text": [
      "            df        sum_sq       mean_sq         F    PR(>F)\n",
      "C(Temp)    2.0  9.374893e+04  46874.466667  1.883492  0.164678\n",
      "Residual  42.0  1.045254e+06  24886.996825       NaN       NaN\n"
     ]
    }
   ],
   "source": [
    "# One Way Anova\n",
    "formula = 'Response ~ C(Temp)'\n",
    "model = ols(formula, Alloy2).fit()\n",
    "aov_table = anova_lm(model)\n",
    "print(aov_table)"
   ]
  },
  {
   "cell_type": "markdown",
   "id": "e3a23a2b",
   "metadata": {},
   "source": [
    "### As p value > α, we Fail to Reject the null hypothesis.  i.e.,  There is NO difference among the temperature level on the implant hardness of Alloy 2 type."
   ]
  },
  {
   "cell_type": "markdown",
   "id": "4073afb9",
   "metadata": {},
   "source": [
    "## 7.6) Ans:"
   ]
  },
  {
   "cell_type": "markdown",
   "id": "f0ae2150",
   "metadata": {},
   "source": [
    "### i) Alloy 1:"
   ]
  },
  {
   "cell_type": "code",
   "execution_count": 470,
   "id": "4760cb3d",
   "metadata": {},
   "outputs": [
    {
     "name": "stdout",
     "output_type": "stream",
     "text": [
      "<class 'pandas.core.frame.DataFrame'>\n",
      "Int64Index: 45 entries, 0 to 86\n",
      "Data columns (total 5 columns):\n",
      " #   Column    Non-Null Count  Dtype   \n",
      "---  ------    --------------  -----   \n",
      " 0   Dentist   45 non-null     category\n",
      " 1   Method    45 non-null     category\n",
      " 2   Alloy     45 non-null     float64 \n",
      " 3   Temp      45 non-null     category\n",
      " 4   Response  45 non-null     float64 \n",
      "dtypes: category(3), float64(2)\n",
      "memory usage: 1.7 KB\n"
     ]
    }
   ],
   "source": [
    "Alloy1.info()"
   ]
  },
  {
   "cell_type": "code",
   "execution_count": 471,
   "id": "4ca054f6",
   "metadata": {},
   "outputs": [
    {
     "data": {
      "text/html": [
       "<div>\n",
       "<style scoped>\n",
       "    .dataframe tbody tr th:only-of-type {\n",
       "        vertical-align: middle;\n",
       "    }\n",
       "\n",
       "    .dataframe tbody tr th {\n",
       "        vertical-align: top;\n",
       "    }\n",
       "\n",
       "    .dataframe thead th {\n",
       "        text-align: right;\n",
       "    }\n",
       "</style>\n",
       "<table border=\"1\" class=\"dataframe\">\n",
       "  <thead>\n",
       "    <tr style=\"text-align: right;\">\n",
       "      <th></th>\n",
       "      <th>Dentist</th>\n",
       "      <th>Method</th>\n",
       "      <th>Alloy</th>\n",
       "      <th>Temp</th>\n",
       "      <th>Response</th>\n",
       "    </tr>\n",
       "  </thead>\n",
       "  <tbody>\n",
       "    <tr>\n",
       "      <th>0</th>\n",
       "      <td>1.0</td>\n",
       "      <td>1.0</td>\n",
       "      <td>1.0</td>\n",
       "      <td>1500.0</td>\n",
       "      <td>813.0</td>\n",
       "    </tr>\n",
       "    <tr>\n",
       "      <th>1</th>\n",
       "      <td>1.0</td>\n",
       "      <td>1.0</td>\n",
       "      <td>1.0</td>\n",
       "      <td>1600.0</td>\n",
       "      <td>792.0</td>\n",
       "    </tr>\n",
       "    <tr>\n",
       "      <th>2</th>\n",
       "      <td>1.0</td>\n",
       "      <td>1.0</td>\n",
       "      <td>1.0</td>\n",
       "      <td>1700.0</td>\n",
       "      <td>792.0</td>\n",
       "    </tr>\n",
       "  </tbody>\n",
       "</table>\n",
       "</div>"
      ],
      "text/plain": [
       "  Dentist Method  Alloy    Temp  Response\n",
       "0     1.0    1.0    1.0  1500.0     813.0\n",
       "1     1.0    1.0    1.0  1600.0     792.0\n",
       "2     1.0    1.0    1.0  1700.0     792.0"
      ]
     },
     "execution_count": 471,
     "metadata": {},
     "output_type": "execute_result"
    }
   ],
   "source": [
    "Alloy1.head(3)"
   ]
  },
  {
   "cell_type": "code",
   "execution_count": 472,
   "id": "bf5085d0",
   "metadata": {},
   "outputs": [
    {
     "data": {
      "text/plain": [
       "1.0    9\n",
       "2.0    9\n",
       "3.0    9\n",
       "4.0    9\n",
       "5.0    9\n",
       "Name: Dentist, dtype: int64"
      ]
     },
     "execution_count": 472,
     "metadata": {},
     "output_type": "execute_result"
    }
   ],
   "source": [
    "Alloy1.Dentist.value_counts()"
   ]
  },
  {
   "cell_type": "code",
   "execution_count": 473,
   "id": "c5c2720a",
   "metadata": {},
   "outputs": [
    {
     "data": {
      "text/plain": [
       "1.0    15\n",
       "2.0    15\n",
       "3.0    15\n",
       "Name: Method, dtype: int64"
      ]
     },
     "execution_count": 473,
     "metadata": {},
     "output_type": "execute_result"
    }
   ],
   "source": [
    "Alloy1.Method.value_counts()"
   ]
  },
  {
   "cell_type": "code",
   "execution_count": 474,
   "id": "6e166e95",
   "metadata": {},
   "outputs": [
    {
     "name": "stdout",
     "output_type": "stream",
     "text": [
      "              df         sum_sq       mean_sq         F    PR(>F)\n",
      "C(Dentist)   4.0  106683.688889  26670.922222  2.591255  0.051875\n",
      "C(Method)    2.0  148472.177778  74236.088889  7.212522  0.002211\n",
      "Residual    38.0  391121.377778  10292.667836       NaN       NaN\n"
     ]
    }
   ],
   "source": [
    "# Two Way Anova\n",
    "formula = 'Response ~ C(Dentist) + C(Method)'\n",
    "model = ols(formula, Alloy1).fit()\n",
    "aov_table = anova_lm(model)\n",
    "print(aov_table)"
   ]
  },
  {
   "cell_type": "code",
   "execution_count": 475,
   "id": "23745376",
   "metadata": {},
   "outputs": [
    {
     "name": "stdout",
     "output_type": "stream",
     "text": [
      "                        df         sum_sq       mean_sq          F    PR(>F)\n",
      "C(Dentist)             4.0  106683.688889  26670.922222   3.899638  0.011484\n",
      "C(Method)              2.0  148472.177778  74236.088889  10.854287  0.000284\n",
      "C(Dentist):C(Method)   8.0  185941.377778  23242.672222   3.398383  0.006793\n",
      "Residual              30.0  205180.000000   6839.333333        NaN       NaN\n"
     ]
    }
   ],
   "source": [
    "# Two Way Anova with interaction plot\n",
    "formula = 'Response ~ C(Dentist) + C(Method) + C(Dentist):C(Method)'\n",
    "model = ols(formula, Alloy1).fit()\n",
    "aov_table = anova_lm(model)\n",
    "print(aov_table)"
   ]
  },
  {
   "cell_type": "markdown",
   "id": "1eb952a7",
   "metadata": {},
   "source": [
    "### a) As the p value (0.011484) of Dentists < α, we can Reject the null hypothesis.  i.e., of Alloy 1 type, there is effect of Dentists on the implant hardness.\n",
    "\n",
    "### b) As the p value (0.000284) of Methods < α, we can Reject the null hypothesis. i.e., of Alloy 1 type, there is effect of Methods on the implant hardness.\n",
    "\n",
    "### c) As the p value (0.006793) of Methods < α, we can Reject the null hypothesis. i.e., of  Alloy1  type,  there is  an  interaction  between  Dentists  and Methods on the implant hardness."
   ]
  },
  {
   "cell_type": "code",
   "execution_count": 476,
   "id": "742b60a1",
   "metadata": {},
   "outputs": [
    {
     "data": {
      "image/png": "[encoded data removed]",
      "text/plain": [
       "<Figure size 640x480 with 1 Axes>"
      ]
     },
     "metadata": {},
     "output_type": "display_data"
    }
   ],
   "source": [
    "sns.pointplot(x='Dentist', y='Response', data=Alloy1, hue='Method', ci=None);"
   ]
  },
  {
   "cell_type": "markdown",
   "id": "c7daa997",
   "metadata": {},
   "source": [
    "### Insights:\n",
    "- Interaction between Dentist 1 and Method 1 has the highest response rate.\n",
    "- Dentist 5 with Method 3 has the least response rate.\n",
    "- Overall, method  3  has  the lesser response  rate when compared with other methods.\n",
    "- Method 2 has the higher response rate with dentist 2\n"
   ]
  },
  {
   "cell_type": "markdown",
   "id": "15463401",
   "metadata": {},
   "source": [
    "### ii) Alloy 2:"
   ]
  },
  {
   "cell_type": "code",
   "execution_count": 477,
   "id": "e7ceee1f",
   "metadata": {},
   "outputs": [
    {
     "name": "stdout",
     "output_type": "stream",
     "text": [
      "<class 'pandas.core.frame.DataFrame'>\n",
      "Int64Index: 45 entries, 3 to 89\n",
      "Data columns (total 5 columns):\n",
      " #   Column    Non-Null Count  Dtype   \n",
      "---  ------    --------------  -----   \n",
      " 0   Dentist   45 non-null     category\n",
      " 1   Method    45 non-null     category\n",
      " 2   Alloy     45 non-null     float64 \n",
      " 3   Temp      45 non-null     category\n",
      " 4   Response  45 non-null     float64 \n",
      "dtypes: category(3), float64(2)\n",
      "memory usage: 1.7 KB\n"
     ]
    }
   ],
   "source": [
    "Alloy2.info()"
   ]
  },
  {
   "cell_type": "code",
   "execution_count": 478,
   "id": "b0a6c31f",
   "metadata": {},
   "outputs": [
    {
     "data": {
      "text/html": [
       "<div>\n",
       "<style scoped>\n",
       "    .dataframe tbody tr th:only-of-type {\n",
       "        vertical-align: middle;\n",
       "    }\n",
       "\n",
       "    .dataframe tbody tr th {\n",
       "        vertical-align: top;\n",
       "    }\n",
       "\n",
       "    .dataframe thead th {\n",
       "        text-align: right;\n",
       "    }\n",
       "</style>\n",
       "<table border=\"1\" class=\"dataframe\">\n",
       "  <thead>\n",
       "    <tr style=\"text-align: right;\">\n",
       "      <th></th>\n",
       "      <th>Dentist</th>\n",
       "      <th>Method</th>\n",
       "      <th>Alloy</th>\n",
       "      <th>Temp</th>\n",
       "      <th>Response</th>\n",
       "    </tr>\n",
       "  </thead>\n",
       "  <tbody>\n",
       "    <tr>\n",
       "      <th>3</th>\n",
       "      <td>1.0</td>\n",
       "      <td>1.0</td>\n",
       "      <td>2.0</td>\n",
       "      <td>1500.0</td>\n",
       "      <td>907.0</td>\n",
       "    </tr>\n",
       "    <tr>\n",
       "      <th>4</th>\n",
       "      <td>1.0</td>\n",
       "      <td>1.0</td>\n",
       "      <td>2.0</td>\n",
       "      <td>1600.0</td>\n",
       "      <td>792.0</td>\n",
       "    </tr>\n",
       "    <tr>\n",
       "      <th>5</th>\n",
       "      <td>1.0</td>\n",
       "      <td>1.0</td>\n",
       "      <td>2.0</td>\n",
       "      <td>1700.0</td>\n",
       "      <td>835.0</td>\n",
       "    </tr>\n",
       "  </tbody>\n",
       "</table>\n",
       "</div>"
      ],
      "text/plain": [
       "  Dentist Method  Alloy    Temp  Response\n",
       "3     1.0    1.0    2.0  1500.0     907.0\n",
       "4     1.0    1.0    2.0  1600.0     792.0\n",
       "5     1.0    1.0    2.0  1700.0     835.0"
      ]
     },
     "execution_count": 478,
     "metadata": {},
     "output_type": "execute_result"
    }
   ],
   "source": [
    "Alloy2.head(3)"
   ]
  },
  {
   "cell_type": "code",
   "execution_count": 479,
   "id": "bb34104e",
   "metadata": {},
   "outputs": [
    {
     "data": {
      "text/plain": [
       "1.0    9\n",
       "2.0    9\n",
       "3.0    9\n",
       "4.0    9\n",
       "5.0    9\n",
       "Name: Dentist, dtype: int64"
      ]
     },
     "execution_count": 479,
     "metadata": {},
     "output_type": "execute_result"
    }
   ],
   "source": [
    "Alloy2.Dentist.value_counts()"
   ]
  },
  {
   "cell_type": "code",
   "execution_count": 480,
   "id": "171e8e9c",
   "metadata": {},
   "outputs": [
    {
     "data": {
      "text/plain": [
       "1.0    15\n",
       "2.0    15\n",
       "3.0    15\n",
       "Name: Method, dtype: int64"
      ]
     },
     "execution_count": 480,
     "metadata": {},
     "output_type": "execute_result"
    }
   ],
   "source": [
    "Alloy2.Method.value_counts()"
   ]
  },
  {
   "cell_type": "code",
   "execution_count": 481,
   "id": "5bcabf4e",
   "metadata": {},
   "outputs": [
    {
     "name": "stdout",
     "output_type": "stream",
     "text": [
      "              df         sum_sq        mean_sq          F    PR(>F)\n",
      "C(Dentist)   4.0   56797.911111   14199.477778   0.926215  0.458933\n",
      "C(Method)    2.0  499640.400000  249820.200000  16.295479  0.000008\n",
      "Residual    38.0  582564.488889   15330.644444        NaN       NaN\n"
     ]
    }
   ],
   "source": [
    "# Two Way Anova\n",
    "formula = 'Response ~ C(Dentist) + C(Method)'\n",
    "model = ols(formula, Alloy2).fit()\n",
    "aov_table = anova_lm(model)\n",
    "print(aov_table)"
   ]
  },
  {
   "cell_type": "code",
   "execution_count": 482,
   "id": "3fa0fec9",
   "metadata": {},
   "outputs": [
    {
     "name": "stdout",
     "output_type": "stream",
     "text": [
      "                        df         sum_sq        mean_sq          F    PR(>F)\n",
      "C(Dentist)             4.0   56797.911111   14199.477778   1.106152  0.371833\n",
      "C(Method)              2.0  499640.400000  249820.200000  19.461218  0.000004\n",
      "C(Dentist):C(Method)   8.0  197459.822222   24682.477778   1.922787  0.093234\n",
      "Residual              30.0  385104.666667   12836.822222        NaN       NaN\n"
     ]
    }
   ],
   "source": [
    "# Two Way Anova with interaction plot\n",
    "formula = 'Response ~ C(Dentist) + C(Method) + C(Dentist):C(Method)'\n",
    "model = ols(formula, Alloy2).fit()\n",
    "aov_table = anova_lm(model)\n",
    "print(aov_table)"
   ]
  },
  {
   "cell_type": "markdown",
   "id": "e2e5107a",
   "metadata": {},
   "source": [
    "### a) As the p value (0.371833) of Dentists > α, we Fail to Reject the null hypothesis. i.e., for Alloy 2 type, there is NO effect of Dentists on the implant hardness.\n",
    "\n",
    "\n",
    "### b) As the p value (0.000004) of Methods < α, we can Reject the null hypothesis. i.e., for Alloy 2 type, there is effect of Methods on the implant hardness.\n",
    "\n",
    "\n",
    "### c) As the p value (0.093234) of Methods > α, we Fail to Reject the null hypothesis. i.e., for Alloy2  type,  there is  NO interaction  between  Dentists  and Methods on the implant hardness. \n"
   ]
  },
  {
   "cell_type": "code",
   "execution_count": 483,
   "id": "4edddd15",
   "metadata": {},
   "outputs": [
    {
     "data": {
      "image/png": "[encoded data removed]",
      "text/plain": [
       "<Figure size 640x480 with 1 Axes>"
      ]
     },
     "metadata": {},
     "output_type": "display_data"
    }
   ],
   "source": [
    "sns.pointplot(x='Dentist', y='Response', data=Alloy2, hue='Method', ci=None);"
   ]
  },
  {
   "cell_type": "markdown",
   "id": "0d313fe7",
   "metadata": {},
   "source": [
    "### Insights:\n",
    "- Interaction between Dentist 1 with Method 2 has the highest response rate.\n",
    "- Dentist 5 with Method 3 has the least response rate.\n",
    "- Overall, method  3  has  the lesser response  rate when compared with other methods.\n",
    "- Among Dentists with Method 1, dentist 5 has the higher response rate.\n"
   ]
  },
  {
   "cell_type": "markdown",
   "id": "2df914fe",
   "metadata": {},
   "source": [
    "## 7.7) Ans:"
   ]
  },
  {
   "cell_type": "markdown",
   "id": "87940ec8",
   "metadata": {},
   "source": [
    "### i) Alloy 1:"
   ]
  },
  {
   "cell_type": "markdown",
   "id": "684c6deb",
   "metadata": {},
   "source": [
    "### Two Way Anova without interaction"
   ]
  },
  {
   "cell_type": "code",
   "execution_count": 484,
   "id": "2731b537",
   "metadata": {},
   "outputs": [
    {
     "name": "stdout",
     "output_type": "stream",
     "text": [
      "              df         sum_sq       mean_sq         F    PR(>F)\n",
      "C(Dentist)   4.0  106683.688889  26670.922222  2.591255  0.051875\n",
      "C(Method)    2.0  148472.177778  74236.088889  7.212522  0.002211\n",
      "Residual    38.0  391121.377778  10292.667836       NaN       NaN\n"
     ]
    }
   ],
   "source": [
    "# Two Way Anova without interaction\n",
    "formula = 'Response ~ C(Dentist) + C(Method)'\n",
    "model = ols(formula, Alloy1).fit()\n",
    "aov_table = anova_lm(model)\n",
    "print(aov_table)"
   ]
  },
  {
   "cell_type": "markdown",
   "id": "ad3d1067",
   "metadata": {},
   "source": [
    "### a\n",
    "Ho = There is NO difference among the dentists on the implant hardness.\n",
    "\n",
    "Ha = There is difference among the dentists on the implant hardness."
   ]
  },
  {
   "cell_type": "markdown",
   "id": "ea0cbf95",
   "metadata": {},
   "source": [
    "### As p value 0.051875 > α, we Fail to Reject the null hypothesis. Therefore, there is NO difference among the dentists on the implant hardness for Alloy 1 type (no interaction)."
   ]
  },
  {
   "cell_type": "markdown",
   "id": "3c1663a5",
   "metadata": {},
   "source": [
    "### b\n",
    "Ho = There is NO difference among the Methods on the implant hardness.\n",
    "\n",
    "Ha = There is difference among the Methods on the implant hardness."
   ]
  },
  {
   "cell_type": "markdown",
   "id": "37ef19bf",
   "metadata": {},
   "source": [
    "### As p value 0.002211 < α, we should Reject the null hypothesis. Therefore, there is difference among the Methods on the implant hardness for Alloy 1 type (no interaction)."
   ]
  },
  {
   "cell_type": "markdown",
   "id": "e9da78d4",
   "metadata": {},
   "source": [
    "### Two Way Anova with interaction"
   ]
  },
  {
   "cell_type": "code",
   "execution_count": 485,
   "id": "71a38fb8",
   "metadata": {},
   "outputs": [
    {
     "name": "stdout",
     "output_type": "stream",
     "text": [
      "                        df         sum_sq       mean_sq          F    PR(>F)\n",
      "C(Dentist)             4.0  106683.688889  26670.922222   3.899638  0.011484\n",
      "C(Method)              2.0  148472.177778  74236.088889  10.854287  0.000284\n",
      "C(Dentist):C(Method)   8.0  185941.377778  23242.672222   3.398383  0.006793\n",
      "Residual              30.0  205180.000000   6839.333333        NaN       NaN\n"
     ]
    }
   ],
   "source": [
    "# Two Way Anova with interaction\n",
    "formula = 'Response ~ C(Dentist) + C(Method) + C(Dentist):C(Method)'\n",
    "model = ols(formula, Alloy1).fit()\n",
    "aov_table = anova_lm(model)\n",
    "print(aov_table)"
   ]
  },
  {
   "cell_type": "markdown",
   "id": "101605df",
   "metadata": {},
   "source": [
    "### a\n",
    "Ho = There is NO difference among the dentists on the implant hardness.\n",
    "\n",
    "Ha = There is difference among the dentists on the implant hardness."
   ]
  },
  {
   "cell_type": "markdown",
   "id": "da9fa818",
   "metadata": {},
   "source": [
    "### As p value 0.011484 < α, we should Reject the null hypothesis. Therefore, there is difference among the dentists on the implant hardness for Alloy 1 type."
   ]
  },
  {
   "cell_type": "markdown",
   "id": "abeb6c0b",
   "metadata": {},
   "source": [
    "### b\n",
    "Ho = There is NO difference among the Methods on the implant hardness.\n",
    "\n",
    "Ha = There is difference among the Methods on the implant hardness."
   ]
  },
  {
   "cell_type": "markdown",
   "id": "57405856",
   "metadata": {},
   "source": [
    "### As p value 0.000284 < α, we should Reject the null hypothesis. Therefore, there is difference among the Methods on the implant hardness for Alloy 1 type."
   ]
  },
  {
   "cell_type": "markdown",
   "id": "c074ab86",
   "metadata": {},
   "source": [
    "### c\n",
    "Ho = There is NO difference among the interaction levels on the implant hardness.\n",
    "\n",
    "Ha = There is difference among the interaction levels on the implant hardness."
   ]
  },
  {
   "cell_type": "markdown",
   "id": "930e2ddf",
   "metadata": {},
   "source": [
    "### As p value 0.006793 < α, we should Reject the null hypothesis. Therefore, there is difference among the interaction levels on the implant hardness for Alloy 1 type."
   ]
  },
  {
   "cell_type": "code",
   "execution_count": null,
   "id": "33f983d3",
   "metadata": {},
   "outputs": [],
   "source": []
  },
  {
   "cell_type": "markdown",
   "id": "881de707",
   "metadata": {},
   "source": [
    "### ii) Alloy 2:"
   ]
  },
  {
   "cell_type": "markdown",
   "id": "f970149f",
   "metadata": {},
   "source": [
    "### Two Way Anova without interaction"
   ]
  },
  {
   "cell_type": "code",
   "execution_count": 486,
   "id": "939d987b",
   "metadata": {},
   "outputs": [
    {
     "name": "stdout",
     "output_type": "stream",
     "text": [
      "              df         sum_sq        mean_sq          F    PR(>F)\n",
      "C(Dentist)   4.0   56797.911111   14199.477778   0.926215  0.458933\n",
      "C(Method)    2.0  499640.400000  249820.200000  16.295479  0.000008\n",
      "Residual    38.0  582564.488889   15330.644444        NaN       NaN\n"
     ]
    }
   ],
   "source": [
    "# Two Way Anova without interaction\n",
    "formula = 'Response ~ C(Dentist) + C(Method)'\n",
    "model = ols(formula, Alloy2).fit()\n",
    "aov_table = anova_lm(model)\n",
    "print(aov_table)"
   ]
  },
  {
   "cell_type": "markdown",
   "id": "8d1d01c8",
   "metadata": {},
   "source": [
    "### a\n",
    "Ho = There is NO difference among the dentists on the implant hardness.\n",
    "\n",
    "Ha = There is difference among the dentists on the implant hardness."
   ]
  },
  {
   "cell_type": "markdown",
   "id": "1288f460",
   "metadata": {},
   "source": [
    "### As p value 0.458933 > α, we Fail to Reject the null hypothesis. Therefore, there is NO difference among the dentists on the implant hardness for Alloy 2 type. (no interaction)"
   ]
  },
  {
   "cell_type": "markdown",
   "id": "b371c930",
   "metadata": {},
   "source": [
    "### b\n",
    "Ho = There is NO difference among the Methods on the implant hardness.\n",
    "\n",
    "Ha = There is difference among the Methods on the implant hardness."
   ]
  },
  {
   "cell_type": "markdown",
   "id": "8319f73e",
   "metadata": {},
   "source": [
    "### As p value 0.000008 < α, we should Reject the null hypothesis. Therefore, there is difference among the Methods on the implant hardness for Alloy 2 type (no interaction)."
   ]
  },
  {
   "cell_type": "markdown",
   "id": "cc0d02d7",
   "metadata": {},
   "source": [
    "### Two Way Anova with interaction"
   ]
  },
  {
   "cell_type": "code",
   "execution_count": 487,
   "id": "8083c1d6",
   "metadata": {},
   "outputs": [
    {
     "name": "stdout",
     "output_type": "stream",
     "text": [
      "                        df         sum_sq        mean_sq          F    PR(>F)\n",
      "C(Dentist)             4.0   56797.911111   14199.477778   1.106152  0.371833\n",
      "C(Method)              2.0  499640.400000  249820.200000  19.461218  0.000004\n",
      "C(Dentist):C(Method)   8.0  197459.822222   24682.477778   1.922787  0.093234\n",
      "Residual              30.0  385104.666667   12836.822222        NaN       NaN\n"
     ]
    }
   ],
   "source": [
    "# Two Way Anova\n",
    "formula = 'Response ~ C(Dentist) + C(Method) + C(Dentist):C(Method)'\n",
    "model = ols(formula, Alloy2).fit()\n",
    "aov_table = anova_lm(model)\n",
    "print(aov_table)"
   ]
  },
  {
   "cell_type": "markdown",
   "id": "806e0b8a",
   "metadata": {},
   "source": [
    "### a\n",
    "Ho = There is NO difference among the dentists on the implant hardness.\n",
    "\n",
    "Ha = There is difference among the dentists on the implant hardness."
   ]
  },
  {
   "cell_type": "markdown",
   "id": "3566667e",
   "metadata": {},
   "source": [
    "### As p value 0.371833 > α, we Fail to Reject the null hypothesis. Therefore, There is NO difference among the dentists on the implant hardness for Alloy 2 type."
   ]
  },
  {
   "cell_type": "markdown",
   "id": "fd86ea19",
   "metadata": {},
   "source": [
    "### b\n",
    "Ho = There is NO difference among the Methods on the implant hardness.\n",
    "\n",
    "Ha = There is difference among the Methods on the implant hardness."
   ]
  },
  {
   "cell_type": "markdown",
   "id": "b585ec48",
   "metadata": {},
   "source": [
    "### As p value 0.000004 < α, we should Reject the null hypothesis. Therefore, there is difference among the Methods on the implant hardness for Alloy 2 type."
   ]
  },
  {
   "cell_type": "markdown",
   "id": "067c30a8",
   "metadata": {},
   "source": [
    "### c\n",
    "Ho = There is NO difference among the interaction levels on the implant hardness.\n",
    "\n",
    "Ha = There is difference among the interaction levels on the implant hardness."
   ]
  },
  {
   "cell_type": "markdown",
   "id": "9c0d169e",
   "metadata": {},
   "source": [
    "### As p value 0.093234 > α, we Fail to Reject the null hypothesis. Therefore, there is NO difference among the interaction levels on the implant hardness. for Alloy 2 type."
   ]
  },
  {
   "cell_type": "code",
   "execution_count": null,
   "id": "6d626bf2",
   "metadata": {},
   "outputs": [],
   "source": []
  },
  {
   "cell_type": "code",
   "execution_count": null,
   "id": "441cbe12",
   "metadata": {},
   "outputs": [],
   "source": []
  },
  {
   "cell_type": "code",
   "execution_count": null,
   "id": "b8a1f800",
   "metadata": {},
   "outputs": [],
   "source": []
  }
 ],
 "metadata": {
  "kernelspec": {
   "display_name": "Python 3 (ipykernel)",
   "language": "python",
   "name": "python3"
  },
  "language_info": {
   "codemirror_mode": {
    "name": "ipython",
    "version": 3
   },
   "file_extension": ".py",
   "mimetype": "text/x-python",
   "name": "python",
   "nbconvert_exporter": "python",
   "pygments_lexer": "ipython3",
   "version": "3.10.9"
  }
 },
 "nbformat": 4,
 "nbformat_minor": 5
}
